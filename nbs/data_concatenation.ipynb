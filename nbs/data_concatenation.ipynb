{
 "cells": [
  {
   "cell_type": "code",
   "execution_count": 1,
   "id": "43d3c9ab",
   "metadata": {},
   "outputs": [],
   "source": [
    "import pandas as pd\n",
    "import numpy as np\n",
    "import matplotlib.pyplot as plt\n",
    "%matplotlib inline\n",
    "import seaborn as sns\n",
    "sns.set()\n",
    "import glob"
   ]
  },
  {
   "cell_type": "code",
   "execution_count": 4,
   "id": "564cef21",
   "metadata": {},
   "outputs": [],
   "source": [
    "path = r'../data'\n",
    "all_files = glob.glob(path+'/*.csv')\n",
    "\n",
    "files = []\n",
    "\n",
    "for filename in all_files:\n",
    "    df = pd.read_csv(filename)\n",
    "    files.append(df)\n",
    "    \n",
    "data = pd.concat(files, axis=0, ignore_index=True)"
   ]
  },
  {
   "cell_type": "code",
   "execution_count": 5,
   "id": "97d4d734",
   "metadata": {},
   "outputs": [
    {
     "data": {
      "text/html": [
       "<div>\n",
       "<style scoped>\n",
       "    .dataframe tbody tr th:only-of-type {\n",
       "        vertical-align: middle;\n",
       "    }\n",
       "\n",
       "    .dataframe tbody tr th {\n",
       "        vertical-align: top;\n",
       "    }\n",
       "\n",
       "    .dataframe thead th {\n",
       "        text-align: right;\n",
       "    }\n",
       "</style>\n",
       "<table border=\"1\" class=\"dataframe\">\n",
       "  <thead>\n",
       "    <tr style=\"text-align: right;\">\n",
       "      <th></th>\n",
       "      <th>Unnamed: 0</th>\n",
       "      <th>content</th>\n",
       "      <th>description</th>\n",
       "      <th>title</th>\n",
       "    </tr>\n",
       "  </thead>\n",
       "  <tbody>\n",
       "    <tr>\n",
       "      <th>0</th>\n",
       "      <td>0</td>\n",
       "      <td>\"In group projects, no boy ever asks for me to...</td>\n",
       "      <td>AAAAAHH!!!View Entire Post ›</td>\n",
       "      <td>33 Subtly Sexist Things Women Deal With That O...</td>\n",
       "    </tr>\n",
       "    <tr>\n",
       "      <th>1</th>\n",
       "      <td>1</td>\n",
       "      <td>u/minipenguz\\r\\n\"It goes from reading TO your ...</td>\n",
       "      <td>Literally about to cross-stitch all of these a...</td>\n",
       "      <td>People Are Sharing Their Random Bits Of Life A...</td>\n",
       "    </tr>\n",
       "    <tr>\n",
       "      <th>2</th>\n",
       "      <td>2</td>\n",
       "      <td>Get all the best moments in pop culture &amp;amp; ...</td>\n",
       "      <td>\"My log does not judge.\"View Entire Post ›</td>\n",
       "      <td>There's A \"Twin Peaks\" Resident In Us All, Whi...</td>\n",
       "    </tr>\n",
       "    <tr>\n",
       "      <th>3</th>\n",
       "      <td>3</td>\n",
       "      <td>\"I havent brought it up at all since weve been...</td>\n",
       "      <td>\"I hate that I’m so uncomfortable. I wish I wa...</td>\n",
       "      <td>What Do You Do When Your Identical Twin Starts...</td>\n",
       "    </tr>\n",
       "    <tr>\n",
       "      <th>4</th>\n",
       "      <td>4</td>\n",
       "      <td>\"Last time Queensland went through mandatory i...</td>\n",
       "      <td>\"I'm quitting a job that earns me roughly $140...</td>\n",
       "      <td>In The Wake Of \"The Great Resignation\", Aussie...</td>\n",
       "    </tr>\n",
       "  </tbody>\n",
       "</table>\n",
       "</div>"
      ],
      "text/plain": [
       "   Unnamed: 0                                            content  \\\n",
       "0           0  \"In group projects, no boy ever asks for me to...   \n",
       "1           1  u/minipenguz\\r\\n\"It goes from reading TO your ...   \n",
       "2           2  Get all the best moments in pop culture &amp; ...   \n",
       "3           3  \"I havent brought it up at all since weve been...   \n",
       "4           4  \"Last time Queensland went through mandatory i...   \n",
       "\n",
       "                                         description  \\\n",
       "0                       AAAAAHH!!!View Entire Post ›   \n",
       "1  Literally about to cross-stitch all of these a...   \n",
       "2         \"My log does not judge.\"View Entire Post ›   \n",
       "3  \"I hate that I’m so uncomfortable. I wish I wa...   \n",
       "4  \"I'm quitting a job that earns me roughly $140...   \n",
       "\n",
       "                                               title  \n",
       "0  33 Subtly Sexist Things Women Deal With That O...  \n",
       "1  People Are Sharing Their Random Bits Of Life A...  \n",
       "2  There's A \"Twin Peaks\" Resident In Us All, Whi...  \n",
       "3  What Do You Do When Your Identical Twin Starts...  \n",
       "4  In The Wake Of \"The Great Resignation\", Aussie...  "
      ]
     },
     "execution_count": 5,
     "metadata": {},
     "output_type": "execute_result"
    }
   ],
   "source": [
    "data.head()"
   ]
  },
  {
   "cell_type": "code",
   "execution_count": 7,
   "id": "c8db5dd8",
   "metadata": {},
   "outputs": [
    {
     "data": {
      "text/plain": [
       "pandas.core.frame.DataFrame"
      ]
     },
     "execution_count": 7,
     "metadata": {},
     "output_type": "execute_result"
    }
   ],
   "source": [
    "type(data)"
   ]
  },
  {
   "cell_type": "code",
   "execution_count": 8,
   "id": "b8c6a6a3",
   "metadata": {},
   "outputs": [
    {
     "data": {
      "text/plain": [
       "(380, 4)"
      ]
     },
     "execution_count": 8,
     "metadata": {},
     "output_type": "execute_result"
    }
   ],
   "source": [
    "data.shape"
   ]
  },
  {
   "cell_type": "code",
   "execution_count": 12,
   "id": "bb9ce882",
   "metadata": {},
   "outputs": [],
   "source": [
    "data.drop('Unnamed: 0', axis=1, inplace=True)"
   ]
  },
  {
   "cell_type": "code",
   "execution_count": 13,
   "id": "2e65da88",
   "metadata": {},
   "outputs": [
    {
     "data": {
      "text/plain": [
       "Index(['content', 'description', 'title'], dtype='object')"
      ]
     },
     "execution_count": 13,
     "metadata": {},
     "output_type": "execute_result"
    }
   ],
   "source": [
    "data.columns"
   ]
  },
  {
   "cell_type": "code",
   "execution_count": 14,
   "id": "d0e7c354",
   "metadata": {},
   "outputs": [
    {
     "data": {
      "text/html": [
       "<div>\n",
       "<style scoped>\n",
       "    .dataframe tbody tr th:only-of-type {\n",
       "        vertical-align: middle;\n",
       "    }\n",
       "\n",
       "    .dataframe tbody tr th {\n",
       "        vertical-align: top;\n",
       "    }\n",
       "\n",
       "    .dataframe thead th {\n",
       "        text-align: right;\n",
       "    }\n",
       "</style>\n",
       "<table border=\"1\" class=\"dataframe\">\n",
       "  <thead>\n",
       "    <tr style=\"text-align: right;\">\n",
       "      <th></th>\n",
       "      <th>content</th>\n",
       "      <th>description</th>\n",
       "      <th>title</th>\n",
       "    </tr>\n",
       "  </thead>\n",
       "  <tbody>\n",
       "    <tr>\n",
       "      <th>67</th>\n",
       "      <td>\"I'm so hesitant to talk about it because of t...</td>\n",
       "      <td>\"I'm so hesitant to talk about it because of t...</td>\n",
       "      <td>Olivia Jade Says She Lives In Fear Of Being \"C...</td>\n",
       "    </tr>\n",
       "    <tr>\n",
       "      <th>219</th>\n",
       "      <td>\"I thought: 'Did he actually call me?' And I w...</td>\n",
       "      <td>\"I thought: 'Did he actually call me?' And I w...</td>\n",
       "      <td>Susan Sarandon Opened Up About Her Final Conve...</td>\n",
       "    </tr>\n",
       "    <tr>\n",
       "      <th>199</th>\n",
       "      <td>Many customers, when told there's a wait, will...</td>\n",
       "      <td>If the sign says \"Please wait to be seated,\" p...</td>\n",
       "      <td>If You Do Any Of These 17 Things When Being Se...</td>\n",
       "    </tr>\n",
       "    <tr>\n",
       "      <th>358</th>\n",
       "      <td>New Line Cinema\\r\\nI'm talkin' rewatching ever...</td>\n",
       "      <td>Only rule is you have to read it in Cate Blanc...</td>\n",
       "      <td>How Well Do You Remember The Opening Monologue...</td>\n",
       "    </tr>\n",
       "    <tr>\n",
       "      <th>227</th>\n",
       "      <td>\"I absolutely cannot wear new clothes without ...</td>\n",
       "      <td>You let your dog lick your mouth after they ju...</td>\n",
       "      <td>People Are Sharing Popular \"Disgusting\" Things...</td>\n",
       "    </tr>\n",
       "  </tbody>\n",
       "</table>\n",
       "</div>"
      ],
      "text/plain": [
       "                                               content  \\\n",
       "67   \"I'm so hesitant to talk about it because of t...   \n",
       "219  \"I thought: 'Did he actually call me?' And I w...   \n",
       "199  Many customers, when told there's a wait, will...   \n",
       "358  New Line Cinema\\r\\nI'm talkin' rewatching ever...   \n",
       "227  \"I absolutely cannot wear new clothes without ...   \n",
       "\n",
       "                                           description  \\\n",
       "67   \"I'm so hesitant to talk about it because of t...   \n",
       "219  \"I thought: 'Did he actually call me?' And I w...   \n",
       "199  If the sign says \"Please wait to be seated,\" p...   \n",
       "358  Only rule is you have to read it in Cate Blanc...   \n",
       "227  You let your dog lick your mouth after they ju...   \n",
       "\n",
       "                                                 title  \n",
       "67   Olivia Jade Says She Lives In Fear Of Being \"C...  \n",
       "219  Susan Sarandon Opened Up About Her Final Conve...  \n",
       "199  If You Do Any Of These 17 Things When Being Se...  \n",
       "358  How Well Do You Remember The Opening Monologue...  \n",
       "227  People Are Sharing Popular \"Disgusting\" Things...  "
      ]
     },
     "execution_count": 14,
     "metadata": {},
     "output_type": "execute_result"
    }
   ],
   "source": [
    "data.sample(5)"
   ]
  },
  {
   "cell_type": "code",
   "execution_count": 15,
   "id": "909416ea",
   "metadata": {},
   "outputs": [],
   "source": [
    "data.to_csv('buzzfeed_headlines.csv', index=False)\n",
    "!mv buzzfeed_headlines.csv ../data/"
   ]
  },
  {
   "cell_type": "code",
   "execution_count": null,
   "id": "719bfcf0",
   "metadata": {},
   "outputs": [],
   "source": []
  }
 ],
 "metadata": {
  "kernelspec": {
   "display_name": "Python 3 (ipykernel)",
   "language": "python",
   "name": "python3"
  },
  "language_info": {
   "codemirror_mode": {
    "name": "ipython",
    "version": 3
   },
   "file_extension": ".py",
   "mimetype": "text/x-python",
   "name": "python",
   "nbconvert_exporter": "python",
   "pygments_lexer": "ipython3",
   "version": "3.7.11"
  },
  "toc": {
   "base_numbering": 1,
   "nav_menu": {},
   "number_sections": true,
   "sideBar": true,
   "skip_h1_title": false,
   "title_cell": "Table of Contents",
   "title_sidebar": "Contents",
   "toc_cell": false,
   "toc_position": {},
   "toc_section_display": true,
   "toc_window_display": false
  },
  "varInspector": {
   "cols": {
    "lenName": 16,
    "lenType": 16,
    "lenVar": 40
   },
   "kernels_config": {
    "python": {
     "delete_cmd_postfix": "",
     "delete_cmd_prefix": "del ",
     "library": "var_list.py",
     "varRefreshCmd": "print(var_dic_list())"
    },
    "r": {
     "delete_cmd_postfix": ") ",
     "delete_cmd_prefix": "rm(",
     "library": "var_list.r",
     "varRefreshCmd": "cat(var_dic_list()) "
    }
   },
   "types_to_exclude": [
    "module",
    "function",
    "builtin_function_or_method",
    "instance",
    "_Feature"
   ],
   "window_display": false
  }
 },
 "nbformat": 4,
 "nbformat_minor": 5
}
