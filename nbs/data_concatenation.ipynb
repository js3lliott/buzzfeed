{
 "cells": [
  {
   "cell_type": "code",
   "execution_count": 1,
   "id": "43d3c9ab",
   "metadata": {},
   "outputs": [],
   "source": [
    "import pandas as pd\n",
    "import numpy as np\n",
    "import matplotlib.pyplot as plt\n",
    "%matplotlib inline\n",
    "import seaborn as sns\n",
    "sns.set()\n",
    "import glob"
   ]
  },
  {
   "cell_type": "code",
   "execution_count": 2,
   "id": "564cef21",
   "metadata": {},
   "outputs": [],
   "source": [
    "path = r'../data'\n",
    "all_files = glob.glob(path+'/buzz_df_day*.csv')\n",
    "\n",
    "files = []\n",
    "\n",
    "for filename in all_files:\n",
    "    df = pd.read_csv(filename)\n",
    "    files.append(df)\n",
    "    \n",
    "data = pd.concat(files, axis=0, ignore_index=True)"
   ]
  },
  {
   "cell_type": "code",
   "execution_count": 3,
   "id": "97d4d734",
   "metadata": {},
   "outputs": [
    {
     "data": {
      "text/html": [
       "<div>\n",
       "<style scoped>\n",
       "    .dataframe tbody tr th:only-of-type {\n",
       "        vertical-align: middle;\n",
       "    }\n",
       "\n",
       "    .dataframe tbody tr th {\n",
       "        vertical-align: top;\n",
       "    }\n",
       "\n",
       "    .dataframe thead th {\n",
       "        text-align: right;\n",
       "    }\n",
       "</style>\n",
       "<table border=\"1\" class=\"dataframe\">\n",
       "  <thead>\n",
       "    <tr style=\"text-align: right;\">\n",
       "      <th></th>\n",
       "      <th>Unnamed: 0</th>\n",
       "      <th>content</th>\n",
       "      <th>description</th>\n",
       "      <th>title</th>\n",
       "    </tr>\n",
       "  </thead>\n",
       "  <tbody>\n",
       "    <tr>\n",
       "      <th>0</th>\n",
       "      <td>0</td>\n",
       "      <td>CBS Films\\r\\nI couldn't find the second video ...</td>\n",
       "      <td>Warning: This is gonna get pretty cute.View En...</td>\n",
       "      <td>16 Wholesome Details From TV And Movies That S...</td>\n",
       "    </tr>\n",
       "    <tr>\n",
       "      <th>1</th>\n",
       "      <td>1</td>\n",
       "      <td>HBO Max\\r\\n\"When I was working with Alexa last...</td>\n",
       "      <td>\"I needed to have something different in my ey...</td>\n",
       "      <td>Jacob Elordi Has Been Living The Dream Filming...</td>\n",
       "    </tr>\n",
       "    <tr>\n",
       "      <th>2</th>\n",
       "      <td>2</td>\n",
       "      <td>\"Honestly working from home HAS been a game ch...</td>\n",
       "      <td>\"Work will never love you back.\"View Entire Po...</td>\n",
       "      <td>People Are Sharing Things That Helped Them Get...</td>\n",
       "    </tr>\n",
       "    <tr>\n",
       "      <th>3</th>\n",
       "      <td>3</td>\n",
       "      <td>Mike Marsland / WireImage via Getty Images\\r\\n...</td>\n",
       "      <td>You really can't win in Hollywood.View Entire ...</td>\n",
       "      <td>7 Actors Who Were Considered Too \"Ugly\" For A ...</td>\n",
       "    </tr>\n",
       "    <tr>\n",
       "      <th>4</th>\n",
       "      <td>4</td>\n",
       "      <td>Jane Barlow - Pa Images / PA Images via Getty ...</td>\n",
       "      <td>\"It would have been a money spinner.\"</td>\n",
       "      <td>Brian Cox Says He Turned Down A Role In “Pirat...</td>\n",
       "    </tr>\n",
       "  </tbody>\n",
       "</table>\n",
       "</div>"
      ],
      "text/plain": [
       "   Unnamed: 0                                            content  \\\n",
       "0           0  CBS Films\\r\\nI couldn't find the second video ...   \n",
       "1           1  HBO Max\\r\\n\"When I was working with Alexa last...   \n",
       "2           2  \"Honestly working from home HAS been a game ch...   \n",
       "3           3  Mike Marsland / WireImage via Getty Images\\r\\n...   \n",
       "4           4  Jane Barlow - Pa Images / PA Images via Getty ...   \n",
       "\n",
       "                                         description  \\\n",
       "0  Warning: This is gonna get pretty cute.View En...   \n",
       "1  \"I needed to have something different in my ey...   \n",
       "2  \"Work will never love you back.\"View Entire Po...   \n",
       "3  You really can't win in Hollywood.View Entire ...   \n",
       "4              \"It would have been a money spinner.\"   \n",
       "\n",
       "                                               title  \n",
       "0  16 Wholesome Details From TV And Movies That S...  \n",
       "1  Jacob Elordi Has Been Living The Dream Filming...  \n",
       "2  People Are Sharing Things That Helped Them Get...  \n",
       "3  7 Actors Who Were Considered Too \"Ugly\" For A ...  \n",
       "4  Brian Cox Says He Turned Down A Role In “Pirat...  "
      ]
     },
     "execution_count": 3,
     "metadata": {},
     "output_type": "execute_result"
    }
   ],
   "source": [
    "data.head()"
   ]
  },
  {
   "cell_type": "code",
   "execution_count": 4,
   "id": "c8db5dd8",
   "metadata": {},
   "outputs": [
    {
     "data": {
      "text/plain": [
       "pandas.core.frame.DataFrame"
      ]
     },
     "execution_count": 4,
     "metadata": {},
     "output_type": "execute_result"
    }
   ],
   "source": [
    "type(data)"
   ]
  },
  {
   "cell_type": "code",
   "execution_count": 5,
   "id": "b8c6a6a3",
   "metadata": {},
   "outputs": [
    {
     "data": {
      "text/plain": [
       "(1000, 4)"
      ]
     },
     "execution_count": 5,
     "metadata": {},
     "output_type": "execute_result"
    }
   ],
   "source": [
    "data.shape"
   ]
  },
  {
   "cell_type": "code",
   "execution_count": 6,
   "id": "bb9ce882",
   "metadata": {},
   "outputs": [],
   "source": [
    "data.drop('Unnamed: 0', axis=1, inplace=True)"
   ]
  },
  {
   "cell_type": "code",
   "execution_count": 7,
   "id": "2e65da88",
   "metadata": {},
   "outputs": [
    {
     "data": {
      "text/plain": [
       "Index(['content', 'description', 'title'], dtype='object')"
      ]
     },
     "execution_count": 7,
     "metadata": {},
     "output_type": "execute_result"
    }
   ],
   "source": [
    "data.columns"
   ]
  },
  {
   "cell_type": "code",
   "execution_count": 8,
   "id": "d0e7c354",
   "metadata": {},
   "outputs": [
    {
     "data": {
      "text/html": [
       "<div>\n",
       "<style scoped>\n",
       "    .dataframe tbody tr th:only-of-type {\n",
       "        vertical-align: middle;\n",
       "    }\n",
       "\n",
       "    .dataframe tbody tr th {\n",
       "        vertical-align: top;\n",
       "    }\n",
       "\n",
       "    .dataframe thead th {\n",
       "        text-align: right;\n",
       "    }\n",
       "</style>\n",
       "<table border=\"1\" class=\"dataframe\">\n",
       "  <thead>\n",
       "    <tr style=\"text-align: right;\">\n",
       "      <th></th>\n",
       "      <th>content</th>\n",
       "      <th>description</th>\n",
       "      <th>title</th>\n",
       "    </tr>\n",
       "  </thead>\n",
       "  <tbody>\n",
       "    <tr>\n",
       "      <th>571</th>\n",
       "      <td>Marvel Entertainment / Via youtube.comThis cla...</td>\n",
       "      <td>Next time you're at the bookstore, you should ...</td>\n",
       "      <td>15 Comic Books And Graphic Novels That Will Ma...</td>\n",
       "    </tr>\n",
       "    <tr>\n",
       "      <th>366</th>\n",
       "      <td>Ronald Martinez / Getty Images\\r\\nBefore we ge...</td>\n",
       "      <td>She also talked about rescheduling her Vegas r...</td>\n",
       "      <td>Adele Has Responded To Those Rich Paul Engagem...</td>\n",
       "    </tr>\n",
       "    <tr>\n",
       "      <th>536</th>\n",
       "      <td>Keep up with the latest daily buzz with the Bu...</td>\n",
       "      <td>Somebody get a bandage.View Entire Post ›</td>\n",
       "      <td>75 People Who Got Roasted Online So Bad They J...</td>\n",
       "    </tr>\n",
       "    <tr>\n",
       "      <th>76</th>\n",
       "      <td>\"We're practical rather than ideological even ...</td>\n",
       "      <td>\"I live in the US now and it's awful compared ...</td>\n",
       "      <td>Aussies Are Sharing How Their Experiences Over...</td>\n",
       "    </tr>\n",
       "    <tr>\n",
       "      <th>79</th>\n",
       "      <td>u/randomentity1\\r\\n\"Also, don't leave a one-st...</td>\n",
       "      <td>\"Putting gold leaf on food is stupid.\"View Ent...</td>\n",
       "      <td>\"Breakfast Is A Construct\" And 20 Other Food O...</td>\n",
       "    </tr>\n",
       "  </tbody>\n",
       "</table>\n",
       "</div>"
      ],
      "text/plain": [
       "                                               content  \\\n",
       "571  Marvel Entertainment / Via youtube.comThis cla...   \n",
       "366  Ronald Martinez / Getty Images\\r\\nBefore we ge...   \n",
       "536  Keep up with the latest daily buzz with the Bu...   \n",
       "76   \"We're practical rather than ideological even ...   \n",
       "79   u/randomentity1\\r\\n\"Also, don't leave a one-st...   \n",
       "\n",
       "                                           description  \\\n",
       "571  Next time you're at the bookstore, you should ...   \n",
       "366  She also talked about rescheduling her Vegas r...   \n",
       "536          Somebody get a bandage.View Entire Post ›   \n",
       "76   \"I live in the US now and it's awful compared ...   \n",
       "79   \"Putting gold leaf on food is stupid.\"View Ent...   \n",
       "\n",
       "                                                 title  \n",
       "571  15 Comic Books And Graphic Novels That Will Ma...  \n",
       "366  Adele Has Responded To Those Rich Paul Engagem...  \n",
       "536  75 People Who Got Roasted Online So Bad They J...  \n",
       "76   Aussies Are Sharing How Their Experiences Over...  \n",
       "79   \"Breakfast Is A Construct\" And 20 Other Food O...  "
      ]
     },
     "execution_count": 8,
     "metadata": {},
     "output_type": "execute_result"
    }
   ],
   "source": [
    "data.sample(5)"
   ]
  },
  {
   "cell_type": "code",
   "execution_count": 9,
   "id": "909416ea",
   "metadata": {},
   "outputs": [],
   "source": [
    "data.to_csv('buzzfeed_headlines.csv', index=False)\n",
    "!mv buzzfeed_headlines.csv ../data/"
   ]
  },
  {
   "cell_type": "code",
   "execution_count": null,
   "id": "719bfcf0",
   "metadata": {},
   "outputs": [],
   "source": []
  }
 ],
 "metadata": {
  "kernelspec": {
   "display_name": "Python 3 (ipykernel)",
   "language": "python",
   "name": "python3"
  },
  "language_info": {
   "codemirror_mode": {
    "name": "ipython",
    "version": 3
   },
   "file_extension": ".py",
   "mimetype": "text/x-python",
   "name": "python",
   "nbconvert_exporter": "python",
   "pygments_lexer": "ipython3",
   "version": "3.7.12"
  },
  "toc": {
   "base_numbering": 1,
   "nav_menu": {},
   "number_sections": true,
   "sideBar": true,
   "skip_h1_title": false,
   "title_cell": "Table of Contents",
   "title_sidebar": "Contents",
   "toc_cell": false,
   "toc_position": {},
   "toc_section_display": true,
   "toc_window_display": false
  },
  "varInspector": {
   "cols": {
    "lenName": 16,
    "lenType": 16,
    "lenVar": 40
   },
   "kernels_config": {
    "python": {
     "delete_cmd_postfix": "",
     "delete_cmd_prefix": "del ",
     "library": "var_list.py",
     "varRefreshCmd": "print(var_dic_list())"
    },
    "r": {
     "delete_cmd_postfix": ") ",
     "delete_cmd_prefix": "rm(",
     "library": "var_list.r",
     "varRefreshCmd": "cat(var_dic_list()) "
    }
   },
   "types_to_exclude": [
    "module",
    "function",
    "builtin_function_or_method",
    "instance",
    "_Feature"
   ],
   "window_display": false
  }
 },
 "nbformat": 4,
 "nbformat_minor": 5
}
