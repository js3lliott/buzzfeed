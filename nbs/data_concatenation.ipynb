{
 "cells": [
  {
   "cell_type": "code",
   "execution_count": 1,
   "id": "43d3c9ab",
   "metadata": {},
   "outputs": [],
   "source": [
    "import pandas as pd\n",
    "import numpy as np\n",
    "import matplotlib.pyplot as plt\n",
    "%matplotlib inline\n",
    "import seaborn as sns\n",
    "sns.set()\n",
    "import glob"
   ]
  },
  {
   "cell_type": "code",
   "execution_count": 2,
   "id": "564cef21",
   "metadata": {},
   "outputs": [],
   "source": [
    "path = r'../data'\n",
    "all_files = glob.glob(path+'/buzz_df_day*.csv')\n",
    "\n",
    "files = []\n",
    "\n",
    "for filename in all_files:\n",
    "    df = pd.read_csv(filename)\n",
    "    files.append(df)\n",
    "    \n",
    "data = pd.concat(files, axis=0, ignore_index=True)"
   ]
  },
  {
   "cell_type": "code",
   "execution_count": 3,
   "id": "97d4d734",
   "metadata": {},
   "outputs": [
    {
     "data": {
      "text/html": [
       "<div>\n",
       "<style scoped>\n",
       "    .dataframe tbody tr th:only-of-type {\n",
       "        vertical-align: middle;\n",
       "    }\n",
       "\n",
       "    .dataframe tbody tr th {\n",
       "        vertical-align: top;\n",
       "    }\n",
       "\n",
       "    .dataframe thead th {\n",
       "        text-align: right;\n",
       "    }\n",
       "</style>\n",
       "<table border=\"1\" class=\"dataframe\">\n",
       "  <thead>\n",
       "    <tr style=\"text-align: right;\">\n",
       "      <th></th>\n",
       "      <th>Unnamed: 0</th>\n",
       "      <th>content</th>\n",
       "      <th>description</th>\n",
       "      <th>title</th>\n",
       "    </tr>\n",
       "  </thead>\n",
       "  <tbody>\n",
       "    <tr>\n",
       "      <th>0</th>\n",
       "      <td>0</td>\n",
       "      <td>CBS Films\\r\\nI couldn't find the second video ...</td>\n",
       "      <td>Warning: This is gonna get pretty cute.View En...</td>\n",
       "      <td>16 Wholesome Details From TV And Movies That S...</td>\n",
       "    </tr>\n",
       "    <tr>\n",
       "      <th>1</th>\n",
       "      <td>1</td>\n",
       "      <td>HBO Max\\r\\n\"When I was working with Alexa last...</td>\n",
       "      <td>\"I needed to have something different in my ey...</td>\n",
       "      <td>Jacob Elordi Has Been Living The Dream Filming...</td>\n",
       "    </tr>\n",
       "    <tr>\n",
       "      <th>2</th>\n",
       "      <td>2</td>\n",
       "      <td>\"Honestly working from home HAS been a game ch...</td>\n",
       "      <td>\"Work will never love you back.\"View Entire Po...</td>\n",
       "      <td>People Are Sharing Things That Helped Them Get...</td>\n",
       "    </tr>\n",
       "    <tr>\n",
       "      <th>3</th>\n",
       "      <td>3</td>\n",
       "      <td>Mike Marsland / WireImage via Getty Images\\r\\n...</td>\n",
       "      <td>You really can't win in Hollywood.View Entire ...</td>\n",
       "      <td>7 Actors Who Were Considered Too \"Ugly\" For A ...</td>\n",
       "    </tr>\n",
       "    <tr>\n",
       "      <th>4</th>\n",
       "      <td>4</td>\n",
       "      <td>Jane Barlow - Pa Images / PA Images via Getty ...</td>\n",
       "      <td>\"It would have been a money spinner.\"</td>\n",
       "      <td>Brian Cox Says He Turned Down A Role In “Pirat...</td>\n",
       "    </tr>\n",
       "  </tbody>\n",
       "</table>\n",
       "</div>"
      ],
      "text/plain": [
       "   Unnamed: 0                                            content  \\\n",
       "0           0  CBS Films\\r\\nI couldn't find the second video ...   \n",
       "1           1  HBO Max\\r\\n\"When I was working with Alexa last...   \n",
       "2           2  \"Honestly working from home HAS been a game ch...   \n",
       "3           3  Mike Marsland / WireImage via Getty Images\\r\\n...   \n",
       "4           4  Jane Barlow - Pa Images / PA Images via Getty ...   \n",
       "\n",
       "                                         description  \\\n",
       "0  Warning: This is gonna get pretty cute.View En...   \n",
       "1  \"I needed to have something different in my ey...   \n",
       "2  \"Work will never love you back.\"View Entire Po...   \n",
       "3  You really can't win in Hollywood.View Entire ...   \n",
       "4              \"It would have been a money spinner.\"   \n",
       "\n",
       "                                               title  \n",
       "0  16 Wholesome Details From TV And Movies That S...  \n",
       "1  Jacob Elordi Has Been Living The Dream Filming...  \n",
       "2  People Are Sharing Things That Helped Them Get...  \n",
       "3  7 Actors Who Were Considered Too \"Ugly\" For A ...  \n",
       "4  Brian Cox Says He Turned Down A Role In “Pirat...  "
      ]
     },
     "execution_count": 3,
     "metadata": {},
     "output_type": "execute_result"
    }
   ],
   "source": [
    "data.head()"
   ]
  },
  {
   "cell_type": "code",
   "execution_count": 4,
   "id": "c8db5dd8",
   "metadata": {},
   "outputs": [
    {
     "data": {
      "text/plain": [
       "pandas.core.frame.DataFrame"
      ]
     },
     "execution_count": 4,
     "metadata": {},
     "output_type": "execute_result"
    }
   ],
   "source": [
    "type(data)"
   ]
  },
  {
   "cell_type": "code",
   "execution_count": 5,
   "id": "b8c6a6a3",
   "metadata": {},
   "outputs": [
    {
     "data": {
      "text/plain": [
       "(660, 4)"
      ]
     },
     "execution_count": 5,
     "metadata": {},
     "output_type": "execute_result"
    }
   ],
   "source": [
    "data.shape"
   ]
  },
  {
   "cell_type": "code",
   "execution_count": 6,
   "id": "bb9ce882",
   "metadata": {},
   "outputs": [],
   "source": [
    "data.drop('Unnamed: 0', axis=1, inplace=True)"
   ]
  },
  {
   "cell_type": "code",
   "execution_count": 7,
   "id": "2e65da88",
   "metadata": {},
   "outputs": [
    {
     "data": {
      "text/plain": [
       "Index(['content', 'description', 'title'], dtype='object')"
      ]
     },
     "execution_count": 7,
     "metadata": {},
     "output_type": "execute_result"
    }
   ],
   "source": [
    "data.columns"
   ]
  },
  {
   "cell_type": "code",
   "execution_count": 8,
   "id": "d0e7c354",
   "metadata": {},
   "outputs": [
    {
     "data": {
      "text/html": [
       "<div>\n",
       "<style scoped>\n",
       "    .dataframe tbody tr th:only-of-type {\n",
       "        vertical-align: middle;\n",
       "    }\n",
       "\n",
       "    .dataframe tbody tr th {\n",
       "        vertical-align: top;\n",
       "    }\n",
       "\n",
       "    .dataframe thead th {\n",
       "        text-align: right;\n",
       "    }\n",
       "</style>\n",
       "<table border=\"1\" class=\"dataframe\">\n",
       "  <thead>\n",
       "    <tr style=\"text-align: right;\">\n",
       "      <th></th>\n",
       "      <th>content</th>\n",
       "      <th>description</th>\n",
       "      <th>title</th>\n",
       "    </tr>\n",
       "  </thead>\n",
       "  <tbody>\n",
       "    <tr>\n",
       "      <th>113</th>\n",
       "      <td>\"Not only is this a blatantly false and unnece...</td>\n",
       "      <td>Hating your spouse? Couldn't be me.View Entire...</td>\n",
       "      <td>Here Are The Relationship Stereotypes That Peo...</td>\n",
       "    </tr>\n",
       "    <tr>\n",
       "      <th>10</th>\n",
       "      <td>Rocco &amp;amp; Roxie is a family-run small busine...</td>\n",
       "      <td>No need to question whether these products do ...</td>\n",
       "      <td>If You Want Results, Check Out These 31 Produc...</td>\n",
       "    </tr>\n",
       "    <tr>\n",
       "      <th>393</th>\n",
       "      <td>\"Didn't get the chance to feel the ______ arou...</td>\n",
       "      <td>\"Didn't get the chance to feel the ______ arou...</td>\n",
       "      <td>If You Get 10/14 On This Lyric Quiz For Adele’...</td>\n",
       "    </tr>\n",
       "    <tr>\n",
       "      <th>498</th>\n",
       "      <td>Promising review: \"I have a white tile floor a...</td>\n",
       "      <td>Including a solution for vases that are just t...</td>\n",
       "      <td>38 Products Guaranteed To Tackle The Cleaning ...</td>\n",
       "    </tr>\n",
       "    <tr>\n",
       "      <th>221</th>\n",
       "      <td>Dean Mitchell / Getty Images\\r\\nFor example, I...</td>\n",
       "      <td>An \"open concept bathroom\" is going to be a de...</td>\n",
       "      <td>As Someone Who Will Never Buy A House, I'm Sup...</td>\n",
       "    </tr>\n",
       "  </tbody>\n",
       "</table>\n",
       "</div>"
      ],
      "text/plain": [
       "                                               content  \\\n",
       "113  \"Not only is this a blatantly false and unnece...   \n",
       "10   Rocco &amp; Roxie is a family-run small busine...   \n",
       "393  \"Didn't get the chance to feel the ______ arou...   \n",
       "498  Promising review: \"I have a white tile floor a...   \n",
       "221  Dean Mitchell / Getty Images\\r\\nFor example, I...   \n",
       "\n",
       "                                           description  \\\n",
       "113  Hating your spouse? Couldn't be me.View Entire...   \n",
       "10   No need to question whether these products do ...   \n",
       "393  \"Didn't get the chance to feel the ______ arou...   \n",
       "498  Including a solution for vases that are just t...   \n",
       "221  An \"open concept bathroom\" is going to be a de...   \n",
       "\n",
       "                                                 title  \n",
       "113  Here Are The Relationship Stereotypes That Peo...  \n",
       "10   If You Want Results, Check Out These 31 Produc...  \n",
       "393  If You Get 10/14 On This Lyric Quiz For Adele’...  \n",
       "498  38 Products Guaranteed To Tackle The Cleaning ...  \n",
       "221  As Someone Who Will Never Buy A House, I'm Sup...  "
      ]
     },
     "execution_count": 8,
     "metadata": {},
     "output_type": "execute_result"
    }
   ],
   "source": [
    "data.sample(5)"
   ]
  },
  {
   "cell_type": "code",
   "execution_count": 9,
   "id": "909416ea",
   "metadata": {},
   "outputs": [],
   "source": [
    "data.to_csv('buzzfeed_headlines.csv', index=False)\n",
    "!mv buzzfeed_headlines.csv ../data/"
   ]
  },
  {
   "cell_type": "code",
   "execution_count": null,
   "id": "719bfcf0",
   "metadata": {},
   "outputs": [],
   "source": []
  }
 ],
 "metadata": {
  "kernelspec": {
   "display_name": "Python 3 (ipykernel)",
   "language": "python",
   "name": "python3"
  },
  "language_info": {
   "codemirror_mode": {
    "name": "ipython",
    "version": 3
   },
   "file_extension": ".py",
   "mimetype": "text/x-python",
   "name": "python",
   "nbconvert_exporter": "python",
   "pygments_lexer": "ipython3",
   "version": "3.7.12"
  },
  "toc": {
   "base_numbering": 1,
   "nav_menu": {},
   "number_sections": true,
   "sideBar": true,
   "skip_h1_title": false,
   "title_cell": "Table of Contents",
   "title_sidebar": "Contents",
   "toc_cell": false,
   "toc_position": {},
   "toc_section_display": true,
   "toc_window_display": false
  },
  "varInspector": {
   "cols": {
    "lenName": 16,
    "lenType": 16,
    "lenVar": 40
   },
   "kernels_config": {
    "python": {
     "delete_cmd_postfix": "",
     "delete_cmd_prefix": "del ",
     "library": "var_list.py",
     "varRefreshCmd": "print(var_dic_list())"
    },
    "r": {
     "delete_cmd_postfix": ") ",
     "delete_cmd_prefix": "rm(",
     "library": "var_list.r",
     "varRefreshCmd": "cat(var_dic_list()) "
    }
   },
   "types_to_exclude": [
    "module",
    "function",
    "builtin_function_or_method",
    "instance",
    "_Feature"
   ],
   "window_display": false
  }
 },
 "nbformat": 4,
 "nbformat_minor": 5
}
