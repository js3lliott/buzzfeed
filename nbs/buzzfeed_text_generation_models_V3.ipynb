{
  "nbformat": 4,
  "nbformat_minor": 0,
  "metadata": {
    "colab": {
      "name": "buzzfeed-text-generation-models-V3.ipynb",
      "provenance": [],
      "collapsed_sections": []
    },
    "kernelspec": {
      "name": "python3",
      "display_name": "Python 3"
    },
    "language_info": {
      "name": "python"
    },
    "accelerator": "GPU"
  },
  "cells": [
    {
      "cell_type": "code",
      "execution_count": 1,
      "metadata": {
        "colab": {
          "base_uri": "https://localhost:8080/"
        },
        "id": "iFBnh6XyhJix",
        "outputId": "c64eff58-8509-4c3e-dc95-4150cde10e4d"
      },
      "outputs": [
        {
          "output_type": "stream",
          "name": "stdout",
          "text": [
            "[nltk_data] Downloading package stopwords to /root/nltk_data...\n",
            "[nltk_data]   Unzipping corpora/stopwords.zip.\n"
          ]
        }
      ],
      "source": [
        "import pandas as pd\n",
        "import numpy as np\n",
        "import nltk\n",
        "nltk.download('stopwords')\n",
        "from nltk.corpus import stopwords"
      ]
    },
    {
      "cell_type": "code",
      "source": [
        "df = pd.read_csv('/content/buzzfeed_headlines.csv')\n",
        "df.sample(5)"
      ],
      "metadata": {
        "colab": {
          "base_uri": "https://localhost:8080/",
          "height": 206
        },
        "id": "7P2RKGS0hX1z",
        "outputId": "eb2bedfc-32d3-4068-a7ee-d2c376666592"
      },
      "execution_count": 2,
      "outputs": [
        {
          "output_type": "execute_result",
          "data": {
            "text/html": [
              "\n",
              "  <div id=\"df-b353f372-54a5-41f9-a384-684aa3cfbea3\">\n",
              "    <div class=\"colab-df-container\">\n",
              "      <div>\n",
              "<style scoped>\n",
              "    .dataframe tbody tr th:only-of-type {\n",
              "        vertical-align: middle;\n",
              "    }\n",
              "\n",
              "    .dataframe tbody tr th {\n",
              "        vertical-align: top;\n",
              "    }\n",
              "\n",
              "    .dataframe thead th {\n",
              "        text-align: right;\n",
              "    }\n",
              "</style>\n",
              "<table border=\"1\" class=\"dataframe\">\n",
              "  <thead>\n",
              "    <tr style=\"text-align: right;\">\n",
              "      <th></th>\n",
              "      <th>content</th>\n",
              "      <th>description</th>\n",
              "      <th>title</th>\n",
              "    </tr>\n",
              "  </thead>\n",
              "  <tbody>\n",
              "    <tr>\n",
              "      <th>810</th>\n",
              "      <td>Amritraj Solomon Communications / Via netflix....</td>\n",
              "      <td>I promise you, this list is gonna work wonders...</td>\n",
              "      <td>These 90s Rom-Coms Will 100% Make Your Life Be...</td>\n",
              "    </tr>\n",
              "    <tr>\n",
              "      <th>399</th>\n",
              "      <td>\"I didnt want to participate in prayer or read...</td>\n",
              "      <td>Abuse isn't always physical.View Entire Post ›</td>\n",
              "      <td>Spiritual Abuse Survivors Are Sharing Their St...</td>\n",
              "    </tr>\n",
              "    <tr>\n",
              "      <th>871</th>\n",
              "      <td>We hope you love the products we recommend! Al...</td>\n",
              "      <td>If there are two things I love, it's looking s...</td>\n",
              "      <td>25 Stylish Yet Affordable Things From Boohoo Y...</td>\n",
              "    </tr>\n",
              "    <tr>\n",
              "      <th>806</th>\n",
              "      <td>Sign up to the BuzzFeed Quizzes Newsletter - B...</td>\n",
              "      <td>Let them eat all the cake!View Entire Post ›</td>\n",
              "      <td>Most People Have Tried 7/26 Of These Sweet, So...</td>\n",
              "    </tr>\n",
              "    <tr>\n",
              "      <th>77</th>\n",
              "      <td>\"'We posted it as a manager level position, bu...</td>\n",
              "      <td>\"We're a family.\" Ugh.View Entire Post ›</td>\n",
              "      <td>Telling You Not To Discuss Your Pay With Cowor...</td>\n",
              "    </tr>\n",
              "  </tbody>\n",
              "</table>\n",
              "</div>\n",
              "      <button class=\"colab-df-convert\" onclick=\"convertToInteractive('df-b353f372-54a5-41f9-a384-684aa3cfbea3')\"\n",
              "              title=\"Convert this dataframe to an interactive table.\"\n",
              "              style=\"display:none;\">\n",
              "        \n",
              "  <svg xmlns=\"http://www.w3.org/2000/svg\" height=\"24px\"viewBox=\"0 0 24 24\"\n",
              "       width=\"24px\">\n",
              "    <path d=\"M0 0h24v24H0V0z\" fill=\"none\"/>\n",
              "    <path d=\"M18.56 5.44l.94 2.06.94-2.06 2.06-.94-2.06-.94-.94-2.06-.94 2.06-2.06.94zm-11 1L8.5 8.5l.94-2.06 2.06-.94-2.06-.94L8.5 2.5l-.94 2.06-2.06.94zm10 10l.94 2.06.94-2.06 2.06-.94-2.06-.94-.94-2.06-.94 2.06-2.06.94z\"/><path d=\"M17.41 7.96l-1.37-1.37c-.4-.4-.92-.59-1.43-.59-.52 0-1.04.2-1.43.59L10.3 9.45l-7.72 7.72c-.78.78-.78 2.05 0 2.83L4 21.41c.39.39.9.59 1.41.59.51 0 1.02-.2 1.41-.59l7.78-7.78 2.81-2.81c.8-.78.8-2.07 0-2.86zM5.41 20L4 18.59l7.72-7.72 1.47 1.35L5.41 20z\"/>\n",
              "  </svg>\n",
              "      </button>\n",
              "      \n",
              "  <style>\n",
              "    .colab-df-container {\n",
              "      display:flex;\n",
              "      flex-wrap:wrap;\n",
              "      gap: 12px;\n",
              "    }\n",
              "\n",
              "    .colab-df-convert {\n",
              "      background-color: #E8F0FE;\n",
              "      border: none;\n",
              "      border-radius: 50%;\n",
              "      cursor: pointer;\n",
              "      display: none;\n",
              "      fill: #1967D2;\n",
              "      height: 32px;\n",
              "      padding: 0 0 0 0;\n",
              "      width: 32px;\n",
              "    }\n",
              "\n",
              "    .colab-df-convert:hover {\n",
              "      background-color: #E2EBFA;\n",
              "      box-shadow: 0px 1px 2px rgba(60, 64, 67, 0.3), 0px 1px 3px 1px rgba(60, 64, 67, 0.15);\n",
              "      fill: #174EA6;\n",
              "    }\n",
              "\n",
              "    [theme=dark] .colab-df-convert {\n",
              "      background-color: #3B4455;\n",
              "      fill: #D2E3FC;\n",
              "    }\n",
              "\n",
              "    [theme=dark] .colab-df-convert:hover {\n",
              "      background-color: #434B5C;\n",
              "      box-shadow: 0px 1px 3px 1px rgba(0, 0, 0, 0.15);\n",
              "      filter: drop-shadow(0px 1px 2px rgba(0, 0, 0, 0.3));\n",
              "      fill: #FFFFFF;\n",
              "    }\n",
              "  </style>\n",
              "\n",
              "      <script>\n",
              "        const buttonEl =\n",
              "          document.querySelector('#df-b353f372-54a5-41f9-a384-684aa3cfbea3 button.colab-df-convert');\n",
              "        buttonEl.style.display =\n",
              "          google.colab.kernel.accessAllowed ? 'block' : 'none';\n",
              "\n",
              "        async function convertToInteractive(key) {\n",
              "          const element = document.querySelector('#df-b353f372-54a5-41f9-a384-684aa3cfbea3');\n",
              "          const dataTable =\n",
              "            await google.colab.kernel.invokeFunction('convertToInteractive',\n",
              "                                                     [key], {});\n",
              "          if (!dataTable) return;\n",
              "\n",
              "          const docLinkHtml = 'Like what you see? Visit the ' +\n",
              "            '<a target=\"_blank\" href=https://colab.research.google.com/notebooks/data_table.ipynb>data table notebook</a>'\n",
              "            + ' to learn more about interactive tables.';\n",
              "          element.innerHTML = '';\n",
              "          dataTable['output_type'] = 'display_data';\n",
              "          await google.colab.output.renderOutput(dataTable, element);\n",
              "          const docLink = document.createElement('div');\n",
              "          docLink.innerHTML = docLinkHtml;\n",
              "          element.appendChild(docLink);\n",
              "        }\n",
              "      </script>\n",
              "    </div>\n",
              "  </div>\n",
              "  "
            ],
            "text/plain": [
              "                                               content  ...                                              title\n",
              "810  Amritraj Solomon Communications / Via netflix....  ...  These 90s Rom-Coms Will 100% Make Your Life Be...\n",
              "399  \"I didnt want to participate in prayer or read...  ...  Spiritual Abuse Survivors Are Sharing Their St...\n",
              "871  We hope you love the products we recommend! Al...  ...  25 Stylish Yet Affordable Things From Boohoo Y...\n",
              "806  Sign up to the BuzzFeed Quizzes Newsletter - B...  ...  Most People Have Tried 7/26 Of These Sweet, So...\n",
              "77   \"'We posted it as a manager level position, bu...  ...  Telling You Not To Discuss Your Pay With Cowor...\n",
              "\n",
              "[5 rows x 3 columns]"
            ]
          },
          "metadata": {},
          "execution_count": 2
        }
      ]
    },
    {
      "cell_type": "code",
      "source": [
        "df.drop(['content', 'description'], axis=1, inplace=True)"
      ],
      "metadata": {
        "id": "dQJLWTAdheQo"
      },
      "execution_count": 3,
      "outputs": []
    },
    {
      "cell_type": "code",
      "source": [
        "!pip install langdetect"
      ],
      "metadata": {
        "colab": {
          "base_uri": "https://localhost:8080/"
        },
        "id": "S34KdGBHhjqx",
        "outputId": "6faf4973-f127-4470-8589-1bba008a66db"
      },
      "execution_count": 4,
      "outputs": [
        {
          "output_type": "stream",
          "name": "stdout",
          "text": [
            "Collecting langdetect\n",
            "  Downloading langdetect-1.0.9.tar.gz (981 kB)\n",
            "\u001b[?25l\r\u001b[K     |▍                               | 10 kB 18.8 MB/s eta 0:00:01\r\u001b[K     |▊                               | 20 kB 7.8 MB/s eta 0:00:01\r\u001b[K     |█                               | 30 kB 5.8 MB/s eta 0:00:01\r\u001b[K     |█▍                              | 40 kB 5.1 MB/s eta 0:00:01\r\u001b[K     |█▊                              | 51 kB 4.5 MB/s eta 0:00:01\r\u001b[K     |██                              | 61 kB 5.3 MB/s eta 0:00:01\r\u001b[K     |██▍                             | 71 kB 4.5 MB/s eta 0:00:01\r\u001b[K     |██▊                             | 81 kB 3.9 MB/s eta 0:00:01\r\u001b[K     |███                             | 92 kB 3.7 MB/s eta 0:00:01\r\u001b[K     |███▍                            | 102 kB 3.7 MB/s eta 0:00:01\r\u001b[K     |███▊                            | 112 kB 3.7 MB/s eta 0:00:01\r\u001b[K     |████                            | 122 kB 3.7 MB/s eta 0:00:01\r\u001b[K     |████▍                           | 133 kB 3.7 MB/s eta 0:00:01\r\u001b[K     |████▊                           | 143 kB 3.7 MB/s eta 0:00:01\r\u001b[K     |█████                           | 153 kB 3.7 MB/s eta 0:00:01\r\u001b[K     |█████▍                          | 163 kB 3.7 MB/s eta 0:00:01\r\u001b[K     |█████▊                          | 174 kB 3.7 MB/s eta 0:00:01\r\u001b[K     |██████                          | 184 kB 3.7 MB/s eta 0:00:01\r\u001b[K     |██████▍                         | 194 kB 3.7 MB/s eta 0:00:01\r\u001b[K     |██████▊                         | 204 kB 3.7 MB/s eta 0:00:01\r\u001b[K     |███████                         | 215 kB 3.7 MB/s eta 0:00:01\r\u001b[K     |███████▍                        | 225 kB 3.7 MB/s eta 0:00:01\r\u001b[K     |███████▊                        | 235 kB 3.7 MB/s eta 0:00:01\r\u001b[K     |████████                        | 245 kB 3.7 MB/s eta 0:00:01\r\u001b[K     |████████▍                       | 256 kB 3.7 MB/s eta 0:00:01\r\u001b[K     |████████▊                       | 266 kB 3.7 MB/s eta 0:00:01\r\u001b[K     |█████████                       | 276 kB 3.7 MB/s eta 0:00:01\r\u001b[K     |█████████▍                      | 286 kB 3.7 MB/s eta 0:00:01\r\u001b[K     |█████████▊                      | 296 kB 3.7 MB/s eta 0:00:01\r\u001b[K     |██████████                      | 307 kB 3.7 MB/s eta 0:00:01\r\u001b[K     |██████████▍                     | 317 kB 3.7 MB/s eta 0:00:01\r\u001b[K     |██████████▊                     | 327 kB 3.7 MB/s eta 0:00:01\r\u001b[K     |███████████                     | 337 kB 3.7 MB/s eta 0:00:01\r\u001b[K     |███████████▍                    | 348 kB 3.7 MB/s eta 0:00:01\r\u001b[K     |███████████▊                    | 358 kB 3.7 MB/s eta 0:00:01\r\u001b[K     |████████████                    | 368 kB 3.7 MB/s eta 0:00:01\r\u001b[K     |████████████▍                   | 378 kB 3.7 MB/s eta 0:00:01\r\u001b[K     |████████████▊                   | 389 kB 3.7 MB/s eta 0:00:01\r\u001b[K     |█████████████                   | 399 kB 3.7 MB/s eta 0:00:01\r\u001b[K     |█████████████▍                  | 409 kB 3.7 MB/s eta 0:00:01\r\u001b[K     |█████████████▊                  | 419 kB 3.7 MB/s eta 0:00:01\r\u001b[K     |██████████████                  | 430 kB 3.7 MB/s eta 0:00:01\r\u001b[K     |██████████████▍                 | 440 kB 3.7 MB/s eta 0:00:01\r\u001b[K     |██████████████▊                 | 450 kB 3.7 MB/s eta 0:00:01\r\u001b[K     |███████████████                 | 460 kB 3.7 MB/s eta 0:00:01\r\u001b[K     |███████████████▍                | 471 kB 3.7 MB/s eta 0:00:01\r\u001b[K     |███████████████▊                | 481 kB 3.7 MB/s eta 0:00:01\r\u001b[K     |████████████████                | 491 kB 3.7 MB/s eta 0:00:01\r\u001b[K     |████████████████▍               | 501 kB 3.7 MB/s eta 0:00:01\r\u001b[K     |████████████████▊               | 512 kB 3.7 MB/s eta 0:00:01\r\u001b[K     |█████████████████               | 522 kB 3.7 MB/s eta 0:00:01\r\u001b[K     |█████████████████▍              | 532 kB 3.7 MB/s eta 0:00:01\r\u001b[K     |█████████████████▊              | 542 kB 3.7 MB/s eta 0:00:01\r\u001b[K     |██████████████████              | 552 kB 3.7 MB/s eta 0:00:01\r\u001b[K     |██████████████████▍             | 563 kB 3.7 MB/s eta 0:00:01\r\u001b[K     |██████████████████▊             | 573 kB 3.7 MB/s eta 0:00:01\r\u001b[K     |███████████████████             | 583 kB 3.7 MB/s eta 0:00:01\r\u001b[K     |███████████████████▍            | 593 kB 3.7 MB/s eta 0:00:01\r\u001b[K     |███████████████████▊            | 604 kB 3.7 MB/s eta 0:00:01\r\u001b[K     |████████████████████            | 614 kB 3.7 MB/s eta 0:00:01\r\u001b[K     |████████████████████▍           | 624 kB 3.7 MB/s eta 0:00:01\r\u001b[K     |████████████████████▊           | 634 kB 3.7 MB/s eta 0:00:01\r\u001b[K     |█████████████████████           | 645 kB 3.7 MB/s eta 0:00:01\r\u001b[K     |█████████████████████▍          | 655 kB 3.7 MB/s eta 0:00:01\r\u001b[K     |█████████████████████▊          | 665 kB 3.7 MB/s eta 0:00:01\r\u001b[K     |██████████████████████          | 675 kB 3.7 MB/s eta 0:00:01\r\u001b[K     |██████████████████████▍         | 686 kB 3.7 MB/s eta 0:00:01\r\u001b[K     |██████████████████████▊         | 696 kB 3.7 MB/s eta 0:00:01\r\u001b[K     |███████████████████████         | 706 kB 3.7 MB/s eta 0:00:01\r\u001b[K     |███████████████████████▍        | 716 kB 3.7 MB/s eta 0:00:01\r\u001b[K     |███████████████████████▊        | 727 kB 3.7 MB/s eta 0:00:01\r\u001b[K     |████████████████████████        | 737 kB 3.7 MB/s eta 0:00:01\r\u001b[K     |████████████████████████▍       | 747 kB 3.7 MB/s eta 0:00:01\r\u001b[K     |████████████████████████▊       | 757 kB 3.7 MB/s eta 0:00:01\r\u001b[K     |█████████████████████████       | 768 kB 3.7 MB/s eta 0:00:01\r\u001b[K     |█████████████████████████▍      | 778 kB 3.7 MB/s eta 0:00:01\r\u001b[K     |█████████████████████████▊      | 788 kB 3.7 MB/s eta 0:00:01\r\u001b[K     |██████████████████████████      | 798 kB 3.7 MB/s eta 0:00:01\r\u001b[K     |██████████████████████████▍     | 808 kB 3.7 MB/s eta 0:00:01\r\u001b[K     |██████████████████████████▊     | 819 kB 3.7 MB/s eta 0:00:01\r\u001b[K     |███████████████████████████     | 829 kB 3.7 MB/s eta 0:00:01\r\u001b[K     |███████████████████████████▍    | 839 kB 3.7 MB/s eta 0:00:01\r\u001b[K     |███████████████████████████▊    | 849 kB 3.7 MB/s eta 0:00:01\r\u001b[K     |████████████████████████████    | 860 kB 3.7 MB/s eta 0:00:01\r\u001b[K     |████████████████████████████▍   | 870 kB 3.7 MB/s eta 0:00:01\r\u001b[K     |████████████████████████████▊   | 880 kB 3.7 MB/s eta 0:00:01\r\u001b[K     |█████████████████████████████   | 890 kB 3.7 MB/s eta 0:00:01\r\u001b[K     |█████████████████████████████▍  | 901 kB 3.7 MB/s eta 0:00:01\r\u001b[K     |█████████████████████████████▊  | 911 kB 3.7 MB/s eta 0:00:01\r\u001b[K     |██████████████████████████████  | 921 kB 3.7 MB/s eta 0:00:01\r\u001b[K     |██████████████████████████████▍ | 931 kB 3.7 MB/s eta 0:00:01\r\u001b[K     |██████████████████████████████▊ | 942 kB 3.7 MB/s eta 0:00:01\r\u001b[K     |███████████████████████████████ | 952 kB 3.7 MB/s eta 0:00:01\r\u001b[K     |███████████████████████████████▍| 962 kB 3.7 MB/s eta 0:00:01\r\u001b[K     |███████████████████████████████▊| 972 kB 3.7 MB/s eta 0:00:01\r\u001b[K     |████████████████████████████████| 981 kB 3.7 MB/s \n",
            "\u001b[?25hRequirement already satisfied: six in /usr/local/lib/python3.7/dist-packages (from langdetect) (1.15.0)\n",
            "Building wheels for collected packages: langdetect\n",
            "  Building wheel for langdetect (setup.py) ... \u001b[?25l\u001b[?25hdone\n",
            "  Created wheel for langdetect: filename=langdetect-1.0.9-py3-none-any.whl size=993242 sha256=497e73d10d2e7e7b7b9c896272c025867375d9f5c633ede1128d37210e891e13\n",
            "  Stored in directory: /root/.cache/pip/wheels/c5/96/8a/f90c59ed25d75e50a8c10a1b1c2d4c402e4dacfa87f3aff36a\n",
            "Successfully built langdetect\n",
            "Installing collected packages: langdetect\n",
            "Successfully installed langdetect-1.0.9\n"
          ]
        }
      ]
    },
    {
      "cell_type": "code",
      "source": [
        "from langdetect import detect"
      ],
      "metadata": {
        "id": "avAef0QSh4eR"
      },
      "execution_count": 5,
      "outputs": []
    },
    {
      "cell_type": "code",
      "source": [
        "def detect_lang(txt):\n",
        "    try:\n",
        "        return detect(txt)\n",
        "    except:\n",
        "        return np.nan\n",
        "    \n",
        "df['language'] = df.title.apply(detect_lang)\n",
        "df = df[df.language == \"en\"]\n",
        "df = df.drop('language', axis=1)"
      ],
      "metadata": {
        "id": "bGo5J36Dh-43"
      },
      "execution_count": 6,
      "outputs": []
    },
    {
      "cell_type": "code",
      "source": [
        "df.isna().sum()"
      ],
      "metadata": {
        "colab": {
          "base_uri": "https://localhost:8080/"
        },
        "id": "X09ZKumpiDSX",
        "outputId": "56a2dbeb-9f23-4071-d5a8-6569656f69d2"
      },
      "execution_count": 7,
      "outputs": [
        {
          "output_type": "execute_result",
          "data": {
            "text/plain": [
              "title    0\n",
              "dtype: int64"
            ]
          },
          "metadata": {},
          "execution_count": 7
        }
      ]
    },
    {
      "cell_type": "code",
      "source": [
        "df.sample(12)"
      ],
      "metadata": {
        "colab": {
          "base_uri": "https://localhost:8080/",
          "height": 426
        },
        "id": "cyzzE1dTiM-R",
        "outputId": "79973356-ee1b-4e11-d33f-d9905c1ac34c"
      },
      "execution_count": 8,
      "outputs": [
        {
          "output_type": "execute_result",
          "data": {
            "text/html": [
              "\n",
              "  <div id=\"df-42a4f414-cb80-441d-8773-4494ebf0936e\">\n",
              "    <div class=\"colab-df-container\">\n",
              "      <div>\n",
              "<style scoped>\n",
              "    .dataframe tbody tr th:only-of-type {\n",
              "        vertical-align: middle;\n",
              "    }\n",
              "\n",
              "    .dataframe tbody tr th {\n",
              "        vertical-align: top;\n",
              "    }\n",
              "\n",
              "    .dataframe thead th {\n",
              "        text-align: right;\n",
              "    }\n",
              "</style>\n",
              "<table border=\"1\" class=\"dataframe\">\n",
              "  <thead>\n",
              "    <tr style=\"text-align: right;\">\n",
              "      <th></th>\n",
              "      <th>title</th>\n",
              "    </tr>\n",
              "  </thead>\n",
              "  <tbody>\n",
              "    <tr>\n",
              "      <th>738</th>\n",
              "      <td>\"The Mentalist\" Actor Simon Baker Has Reported...</td>\n",
              "    </tr>\n",
              "    <tr>\n",
              "      <th>99</th>\n",
              "      <td>If You Have Thoughts About BuzzFeed Shopping C...</td>\n",
              "    </tr>\n",
              "    <tr>\n",
              "      <th>873</th>\n",
              "      <td>Here Are 17 Historical Events Most People Were...</td>\n",
              "    </tr>\n",
              "    <tr>\n",
              "      <th>827</th>\n",
              "      <td>Adele Says She Doesn’t Want To Do A Major Tour...</td>\n",
              "    </tr>\n",
              "    <tr>\n",
              "      <th>119</th>\n",
              "      <td>A Week After 17 People Were Killed In A Bronx ...</td>\n",
              "    </tr>\n",
              "    <tr>\n",
              "      <th>773</th>\n",
              "      <td>Emma Thompson Opened Up About The Intense Prep...</td>\n",
              "    </tr>\n",
              "    <tr>\n",
              "      <th>797</th>\n",
              "      <td>Harry And Sally? John McLaine And Holly? This ...</td>\n",
              "    </tr>\n",
              "    <tr>\n",
              "      <th>197</th>\n",
              "      <td>51 Products Whose Designers Are Truly The Visi...</td>\n",
              "    </tr>\n",
              "    <tr>\n",
              "      <th>315</th>\n",
              "      <td>22 Signs That A Restaurant Might Be A Serious ...</td>\n",
              "    </tr>\n",
              "    <tr>\n",
              "      <th>712</th>\n",
              "      <td>Jamie Foxx Said He Doesn't Plan On Getting Mar...</td>\n",
              "    </tr>\n",
              "    <tr>\n",
              "      <th>702</th>\n",
              "      <td>19 Songs That Would Be TikTok Famous If They W...</td>\n",
              "    </tr>\n",
              "    <tr>\n",
              "      <th>718</th>\n",
              "      <td>Noodle The Pug Has The Internet By A Chokehold...</td>\n",
              "    </tr>\n",
              "  </tbody>\n",
              "</table>\n",
              "</div>\n",
              "      <button class=\"colab-df-convert\" onclick=\"convertToInteractive('df-42a4f414-cb80-441d-8773-4494ebf0936e')\"\n",
              "              title=\"Convert this dataframe to an interactive table.\"\n",
              "              style=\"display:none;\">\n",
              "        \n",
              "  <svg xmlns=\"http://www.w3.org/2000/svg\" height=\"24px\"viewBox=\"0 0 24 24\"\n",
              "       width=\"24px\">\n",
              "    <path d=\"M0 0h24v24H0V0z\" fill=\"none\"/>\n",
              "    <path d=\"M18.56 5.44l.94 2.06.94-2.06 2.06-.94-2.06-.94-.94-2.06-.94 2.06-2.06.94zm-11 1L8.5 8.5l.94-2.06 2.06-.94-2.06-.94L8.5 2.5l-.94 2.06-2.06.94zm10 10l.94 2.06.94-2.06 2.06-.94-2.06-.94-.94-2.06-.94 2.06-2.06.94z\"/><path d=\"M17.41 7.96l-1.37-1.37c-.4-.4-.92-.59-1.43-.59-.52 0-1.04.2-1.43.59L10.3 9.45l-7.72 7.72c-.78.78-.78 2.05 0 2.83L4 21.41c.39.39.9.59 1.41.59.51 0 1.02-.2 1.41-.59l7.78-7.78 2.81-2.81c.8-.78.8-2.07 0-2.86zM5.41 20L4 18.59l7.72-7.72 1.47 1.35L5.41 20z\"/>\n",
              "  </svg>\n",
              "      </button>\n",
              "      \n",
              "  <style>\n",
              "    .colab-df-container {\n",
              "      display:flex;\n",
              "      flex-wrap:wrap;\n",
              "      gap: 12px;\n",
              "    }\n",
              "\n",
              "    .colab-df-convert {\n",
              "      background-color: #E8F0FE;\n",
              "      border: none;\n",
              "      border-radius: 50%;\n",
              "      cursor: pointer;\n",
              "      display: none;\n",
              "      fill: #1967D2;\n",
              "      height: 32px;\n",
              "      padding: 0 0 0 0;\n",
              "      width: 32px;\n",
              "    }\n",
              "\n",
              "    .colab-df-convert:hover {\n",
              "      background-color: #E2EBFA;\n",
              "      box-shadow: 0px 1px 2px rgba(60, 64, 67, 0.3), 0px 1px 3px 1px rgba(60, 64, 67, 0.15);\n",
              "      fill: #174EA6;\n",
              "    }\n",
              "\n",
              "    [theme=dark] .colab-df-convert {\n",
              "      background-color: #3B4455;\n",
              "      fill: #D2E3FC;\n",
              "    }\n",
              "\n",
              "    [theme=dark] .colab-df-convert:hover {\n",
              "      background-color: #434B5C;\n",
              "      box-shadow: 0px 1px 3px 1px rgba(0, 0, 0, 0.15);\n",
              "      filter: drop-shadow(0px 1px 2px rgba(0, 0, 0, 0.3));\n",
              "      fill: #FFFFFF;\n",
              "    }\n",
              "  </style>\n",
              "\n",
              "      <script>\n",
              "        const buttonEl =\n",
              "          document.querySelector('#df-42a4f414-cb80-441d-8773-4494ebf0936e button.colab-df-convert');\n",
              "        buttonEl.style.display =\n",
              "          google.colab.kernel.accessAllowed ? 'block' : 'none';\n",
              "\n",
              "        async function convertToInteractive(key) {\n",
              "          const element = document.querySelector('#df-42a4f414-cb80-441d-8773-4494ebf0936e');\n",
              "          const dataTable =\n",
              "            await google.colab.kernel.invokeFunction('convertToInteractive',\n",
              "                                                     [key], {});\n",
              "          if (!dataTable) return;\n",
              "\n",
              "          const docLinkHtml = 'Like what you see? Visit the ' +\n",
              "            '<a target=\"_blank\" href=https://colab.research.google.com/notebooks/data_table.ipynb>data table notebook</a>'\n",
              "            + ' to learn more about interactive tables.';\n",
              "          element.innerHTML = '';\n",
              "          dataTable['output_type'] = 'display_data';\n",
              "          await google.colab.output.renderOutput(dataTable, element);\n",
              "          const docLink = document.createElement('div');\n",
              "          docLink.innerHTML = docLinkHtml;\n",
              "          element.appendChild(docLink);\n",
              "        }\n",
              "      </script>\n",
              "    </div>\n",
              "  </div>\n",
              "  "
            ],
            "text/plain": [
              "                                                 title\n",
              "738  \"The Mentalist\" Actor Simon Baker Has Reported...\n",
              "99   If You Have Thoughts About BuzzFeed Shopping C...\n",
              "873  Here Are 17 Historical Events Most People Were...\n",
              "827  Adele Says She Doesn’t Want To Do A Major Tour...\n",
              "119  A Week After 17 People Were Killed In A Bronx ...\n",
              "773  Emma Thompson Opened Up About The Intense Prep...\n",
              "797  Harry And Sally? John McLaine And Holly? This ...\n",
              "197  51 Products Whose Designers Are Truly The Visi...\n",
              "315  22 Signs That A Restaurant Might Be A Serious ...\n",
              "712  Jamie Foxx Said He Doesn't Plan On Getting Mar...\n",
              "702  19 Songs That Would Be TikTok Famous If They W...\n",
              "718  Noodle The Pug Has The Internet By A Chokehold..."
            ]
          },
          "metadata": {},
          "execution_count": 8
        }
      ]
    },
    {
      "cell_type": "code",
      "source": [
        "# Not going to remove stop words at first to see if the models\n",
        "# can pick up proper syntax of everything and spit out a \n",
        "# headline that looks really similar to real ones rather than \n",
        "# headlines with no stop words\n",
        "\n",
        "# also going to leave the tokenization until later when \n",
        "# we do it through TF/Keras\n",
        "import string\n",
        "\n",
        "def preprocess(df):\n",
        "  # stop_words = stopwords.words('english')\n",
        "  df['title'] = df['title'].str.lower()\n",
        "  df['title'] = df['title'].str.replace('[^a-zA-Z0-9]', ' ') # replace non-alphanumeric characters with spaces\n",
        "  df['title'] = df['title'].str.replace('\\s+', ' ') # replace multiple spaces with a single space\n",
        "  df['title'] = df['title'].str.strip() # remove leading and trailing spaces\n",
        "  # df['title'] = df['title'].apply(lambda x: ' '.join([word for word in x.split() if word not in (stop_words)]))\n",
        "\n",
        "  return df\n",
        "\n",
        "df = preprocess(df)\n",
        "df.sample(12)"
      ],
      "metadata": {
        "colab": {
          "base_uri": "https://localhost:8080/",
          "height": 495
        },
        "id": "p-9XaAkoiRMx",
        "outputId": "9228b621-a4b6-4014-f0e8-952bbd179f17"
      },
      "execution_count": 9,
      "outputs": [
        {
          "output_type": "stream",
          "name": "stderr",
          "text": [
            "/usr/local/lib/python3.7/dist-packages/ipykernel_launcher.py:13: FutureWarning: The default value of regex will change from True to False in a future version.\n",
            "  del sys.path[0]\n",
            "/usr/local/lib/python3.7/dist-packages/ipykernel_launcher.py:14: FutureWarning: The default value of regex will change from True to False in a future version.\n",
            "  \n"
          ]
        },
        {
          "output_type": "execute_result",
          "data": {
            "text/html": [
              "\n",
              "  <div id=\"df-54e83f50-8128-457f-83d3-7a029df93d13\">\n",
              "    <div class=\"colab-df-container\">\n",
              "      <div>\n",
              "<style scoped>\n",
              "    .dataframe tbody tr th:only-of-type {\n",
              "        vertical-align: middle;\n",
              "    }\n",
              "\n",
              "    .dataframe tbody tr th {\n",
              "        vertical-align: top;\n",
              "    }\n",
              "\n",
              "    .dataframe thead th {\n",
              "        text-align: right;\n",
              "    }\n",
              "</style>\n",
              "<table border=\"1\" class=\"dataframe\">\n",
              "  <thead>\n",
              "    <tr style=\"text-align: right;\">\n",
              "      <th></th>\n",
              "      <th>title</th>\n",
              "    </tr>\n",
              "  </thead>\n",
              "  <tbody>\n",
              "    <tr>\n",
              "      <th>942</th>\n",
              "      <td>30 things that ll help prevent mess from takin...</td>\n",
              "    </tr>\n",
              "    <tr>\n",
              "      <th>568</th>\n",
              "      <td>she became the first latinx woman with a disab...</td>\n",
              "    </tr>\n",
              "    <tr>\n",
              "      <th>563</th>\n",
              "      <td>anyone over 28 will relate to this hilariously...</td>\n",
              "    </tr>\n",
              "    <tr>\n",
              "      <th>613</th>\n",
              "      <td>jamie lee curtis explained why metoo would hav...</td>\n",
              "    </tr>\n",
              "    <tr>\n",
              "      <th>137</th>\n",
              "      <td>laura coates reflected on being snubbed by jeo...</td>\n",
              "    </tr>\n",
              "    <tr>\n",
              "      <th>396</th>\n",
              "      <td>if you love ratatouille seeing these 17 disney...</td>\n",
              "    </tr>\n",
              "    <tr>\n",
              "      <th>689</th>\n",
              "      <td>nicole kidman is unveiled as lucille ball in t...</td>\n",
              "    </tr>\n",
              "    <tr>\n",
              "      <th>302</th>\n",
              "      <td>29 problem solving products any tired college ...</td>\n",
              "    </tr>\n",
              "    <tr>\n",
              "      <th>467</th>\n",
              "      <td>23 shocking tv moments that i wish i could go ...</td>\n",
              "    </tr>\n",
              "    <tr>\n",
              "      <th>232</th>\n",
              "      <td>these 13 tv and movie writers came clean about...</td>\n",
              "    </tr>\n",
              "    <tr>\n",
              "      <th>526</th>\n",
              "      <td>women in their 30s are sharing the deep heartb...</td>\n",
              "    </tr>\n",
              "    <tr>\n",
              "      <th>5</th>\n",
              "      <td>eat at this dessert buffet like a toddler at a...</td>\n",
              "    </tr>\n",
              "  </tbody>\n",
              "</table>\n",
              "</div>\n",
              "      <button class=\"colab-df-convert\" onclick=\"convertToInteractive('df-54e83f50-8128-457f-83d3-7a029df93d13')\"\n",
              "              title=\"Convert this dataframe to an interactive table.\"\n",
              "              style=\"display:none;\">\n",
              "        \n",
              "  <svg xmlns=\"http://www.w3.org/2000/svg\" height=\"24px\"viewBox=\"0 0 24 24\"\n",
              "       width=\"24px\">\n",
              "    <path d=\"M0 0h24v24H0V0z\" fill=\"none\"/>\n",
              "    <path d=\"M18.56 5.44l.94 2.06.94-2.06 2.06-.94-2.06-.94-.94-2.06-.94 2.06-2.06.94zm-11 1L8.5 8.5l.94-2.06 2.06-.94-2.06-.94L8.5 2.5l-.94 2.06-2.06.94zm10 10l.94 2.06.94-2.06 2.06-.94-2.06-.94-.94-2.06-.94 2.06-2.06.94z\"/><path d=\"M17.41 7.96l-1.37-1.37c-.4-.4-.92-.59-1.43-.59-.52 0-1.04.2-1.43.59L10.3 9.45l-7.72 7.72c-.78.78-.78 2.05 0 2.83L4 21.41c.39.39.9.59 1.41.59.51 0 1.02-.2 1.41-.59l7.78-7.78 2.81-2.81c.8-.78.8-2.07 0-2.86zM5.41 20L4 18.59l7.72-7.72 1.47 1.35L5.41 20z\"/>\n",
              "  </svg>\n",
              "      </button>\n",
              "      \n",
              "  <style>\n",
              "    .colab-df-container {\n",
              "      display:flex;\n",
              "      flex-wrap:wrap;\n",
              "      gap: 12px;\n",
              "    }\n",
              "\n",
              "    .colab-df-convert {\n",
              "      background-color: #E8F0FE;\n",
              "      border: none;\n",
              "      border-radius: 50%;\n",
              "      cursor: pointer;\n",
              "      display: none;\n",
              "      fill: #1967D2;\n",
              "      height: 32px;\n",
              "      padding: 0 0 0 0;\n",
              "      width: 32px;\n",
              "    }\n",
              "\n",
              "    .colab-df-convert:hover {\n",
              "      background-color: #E2EBFA;\n",
              "      box-shadow: 0px 1px 2px rgba(60, 64, 67, 0.3), 0px 1px 3px 1px rgba(60, 64, 67, 0.15);\n",
              "      fill: #174EA6;\n",
              "    }\n",
              "\n",
              "    [theme=dark] .colab-df-convert {\n",
              "      background-color: #3B4455;\n",
              "      fill: #D2E3FC;\n",
              "    }\n",
              "\n",
              "    [theme=dark] .colab-df-convert:hover {\n",
              "      background-color: #434B5C;\n",
              "      box-shadow: 0px 1px 3px 1px rgba(0, 0, 0, 0.15);\n",
              "      filter: drop-shadow(0px 1px 2px rgba(0, 0, 0, 0.3));\n",
              "      fill: #FFFFFF;\n",
              "    }\n",
              "  </style>\n",
              "\n",
              "      <script>\n",
              "        const buttonEl =\n",
              "          document.querySelector('#df-54e83f50-8128-457f-83d3-7a029df93d13 button.colab-df-convert');\n",
              "        buttonEl.style.display =\n",
              "          google.colab.kernel.accessAllowed ? 'block' : 'none';\n",
              "\n",
              "        async function convertToInteractive(key) {\n",
              "          const element = document.querySelector('#df-54e83f50-8128-457f-83d3-7a029df93d13');\n",
              "          const dataTable =\n",
              "            await google.colab.kernel.invokeFunction('convertToInteractive',\n",
              "                                                     [key], {});\n",
              "          if (!dataTable) return;\n",
              "\n",
              "          const docLinkHtml = 'Like what you see? Visit the ' +\n",
              "            '<a target=\"_blank\" href=https://colab.research.google.com/notebooks/data_table.ipynb>data table notebook</a>'\n",
              "            + ' to learn more about interactive tables.';\n",
              "          element.innerHTML = '';\n",
              "          dataTable['output_type'] = 'display_data';\n",
              "          await google.colab.output.renderOutput(dataTable, element);\n",
              "          const docLink = document.createElement('div');\n",
              "          docLink.innerHTML = docLinkHtml;\n",
              "          element.appendChild(docLink);\n",
              "        }\n",
              "      </script>\n",
              "    </div>\n",
              "  </div>\n",
              "  "
            ],
            "text/plain": [
              "                                                 title\n",
              "942  30 things that ll help prevent mess from takin...\n",
              "568  she became the first latinx woman with a disab...\n",
              "563  anyone over 28 will relate to this hilariously...\n",
              "613  jamie lee curtis explained why metoo would hav...\n",
              "137  laura coates reflected on being snubbed by jeo...\n",
              "396  if you love ratatouille seeing these 17 disney...\n",
              "689  nicole kidman is unveiled as lucille ball in t...\n",
              "302  29 problem solving products any tired college ...\n",
              "467  23 shocking tv moments that i wish i could go ...\n",
              "232  these 13 tv and movie writers came clean about...\n",
              "526  women in their 30s are sharing the deep heartb...\n",
              "5    eat at this dessert buffet like a toddler at a..."
            ]
          },
          "metadata": {},
          "execution_count": 9
        }
      ]
    },
    {
      "cell_type": "code",
      "source": [
        "import tensorflow\n",
        "from tensorflow.keras.preprocessing.sequence import pad_sequences\n",
        "from tensorflow.keras.layers import Embedding, LSTM, Dense, Dropout\n",
        "from tensorflow.keras.preprocessing.text import Tokenizer\n",
        "from tensorflow.keras.callbacks import EarlyStopping\n",
        "from tensorflow.keras.models import Sequential\n",
        "import tensorflow.keras.utils as ku\n",
        "from tensorflow.random import set_seed\n",
        "from numpy.random import seed\n",
        "\n",
        "set_seed(2022)\n",
        "seed(1)"
      ],
      "metadata": {
        "id": "8sQQ9bFlin87"
      },
      "execution_count": 10,
      "outputs": []
    },
    {
      "cell_type": "code",
      "source": [
        "corpus = [title for title in df['title']]\n",
        "corpus[:10]"
      ],
      "metadata": {
        "colab": {
          "base_uri": "https://localhost:8080/"
        },
        "id": "GRWchMPKnx_7",
        "outputId": "aa7b162b-14a7-4175-940a-3e7df77cf880"
      },
      "execution_count": 11,
      "outputs": [
        {
          "output_type": "execute_result",
          "data": {
            "text/plain": [
              "['16 wholesome details from tv and movies that show they were quite literally made with love',\n",
              " 'jacob elordi has been living the dream filming passionate love scenes with sydney sweeney on euphoria and he knows it',\n",
              " 'people are sharing things that helped them get a better work life balance and it s so refreshing',\n",
              " '7 actors who were considered too ugly for a role and 8 who weren t ugly enough',\n",
              " 'brian cox says he turned down a role in pirates of the caribbean',\n",
              " 'eat at this dessert buffet like a toddler at a birthday party and i ll tell you which bsc character you remind me of',\n",
              " 'directors must really love these 17 pairs of actors together since they keep getting cast as costars',\n",
              " 'all of the major pop culture happenings this week from celebrity tributes to new trailers',\n",
              " 'aussies are sharing how their experiences overseas have changed their view on australia and the responses are fascinating',\n",
              " 'telling you not to discuss your pay with coworkers and 18 other red flags in the workplace']"
            ]
          },
          "metadata": {},
          "execution_count": 11
        }
      ]
    },
    {
      "cell_type": "code",
      "source": [
        "# Generating Sequence of N-gram Tokens\n",
        "\n",
        "tokenizer = Tokenizer()\n",
        "\n",
        "def get_sequence_of_tokens(corpus):\n",
        "  # tokenization\n",
        "  tokenizer.fit_on_texts(corpus)\n",
        "  total_words = len(tokenizer.word_index) + 1\n",
        "\n",
        "  # convert data to sequence of tokens\n",
        "  input_sequences = []\n",
        "  for line in corpus:\n",
        "    token_list = tokenizer.texts_to_sequences([line])[0]\n",
        "    for i in range(1, len(token_list)):\n",
        "      n_gram_sequence = token_list[:i+1]\n",
        "      input_sequences.append(n_gram_sequence)\n",
        "  return input_sequences, total_words\n",
        "\n",
        "inp_sequences, total_words = get_sequence_of_tokens(corpus)\n",
        "inp_sequences[:10]"
      ],
      "metadata": {
        "colab": {
          "base_uri": "https://localhost:8080/"
        },
        "id": "H-8yh_xzosdU",
        "outputId": "17c09a6f-f686-4f10-b20a-64681ba24d15"
      },
      "execution_count": 12,
      "outputs": [
        {
          "output_type": "execute_result",
          "data": {
            "text/plain": [
              "[[122, 412],\n",
              " [122, 412, 203],\n",
              " [122, 412, 203, 22],\n",
              " [122, 412, 203, 22, 74],\n",
              " [122, 412, 203, 22, 74, 2],\n",
              " [122, 412, 203, 22, 74, 2, 111],\n",
              " [122, 412, 203, 22, 74, 2, 111, 7],\n",
              " [122, 412, 203, 22, 74, 2, 111, 7, 112],\n",
              " [122, 412, 203, 22, 74, 2, 111, 7, 112, 19],\n",
              " [122, 412, 203, 22, 74, 2, 111, 7, 112, 19, 52]]"
            ]
          },
          "metadata": {},
          "execution_count": 12
        }
      ]
    },
    {
      "cell_type": "code",
      "source": [
        "# Padding the Sequences and get predictors & targets/labels\n",
        "\n",
        "def generate_padded_sequences(input_sequences):\n",
        "  max_sequence_len = max([len(x) for x in input_sequences])\n",
        "  input_sequences = np.array(pad_sequences(input_sequences, maxlen=max_sequence_len, padding='pre'))\n",
        "  predictors, label = input_sequences[:,:-1], input_sequences[:, -1]\n",
        "  label = ku.to_categorical(label, num_classes=total_words)\n",
        "  return predictors, label, max_sequence_len\n",
        "\n",
        "predictors, label, max_sequence_len = generate_padded_sequences(inp_sequences)"
      ],
      "metadata": {
        "id": "1woacBhdpcdU"
      },
      "execution_count": 13,
      "outputs": []
    },
    {
      "cell_type": "code",
      "source": [
        "from tensorflow.python.keras.utils.data_utils import Sequence\n",
        "# LSTM model for Text Generation\n",
        "\n",
        "def create_model(max_sequence_len, total_words):\n",
        "  input_len = max_sequence_len - 1\n",
        "  model = Sequential()\n",
        "\n",
        "  # Input Embedding Layer\n",
        "  model.add(Embedding(total_words, 10, input_length=input_len))\n",
        "\n",
        "  # Add a Hidden Layer - LSTM Layer\n",
        "  model.add(LSTM(100))\n",
        "  model.add(Dropout(0.2))\n",
        "\n",
        "  # Add Output Layer\n",
        "  model.add(Dense(total_words, activation='softmax'))\n",
        "\n",
        "  model.compile(loss='categorical_crossentropy', optimizer='adam')\n",
        "  return model\n",
        "\n",
        "model = create_model(max_sequence_len, total_words)\n",
        "model.summary()"
      ],
      "metadata": {
        "colab": {
          "base_uri": "https://localhost:8080/"
        },
        "id": "3qJa_BSUq_vy",
        "outputId": "b816d05a-026d-4153-8904-2c30ba390338"
      },
      "execution_count": 14,
      "outputs": [
        {
          "output_type": "stream",
          "name": "stdout",
          "text": [
            "Model: \"sequential\"\n",
            "_________________________________________________________________\n",
            " Layer (type)                Output Shape              Param #   \n",
            "=================================================================\n",
            " embedding (Embedding)       (None, 32, 10)            33480     \n",
            "                                                                 \n",
            " lstm (LSTM)                 (None, 100)               44400     \n",
            "                                                                 \n",
            " dropout (Dropout)           (None, 100)               0         \n",
            "                                                                 \n",
            " dense (Dense)               (None, 3348)              338148    \n",
            "                                                                 \n",
            "=================================================================\n",
            "Total params: 416,028\n",
            "Trainable params: 416,028\n",
            "Non-trainable params: 0\n",
            "_________________________________________________________________\n"
          ]
        }
      ]
    },
    {
      "cell_type": "code",
      "source": [
        "# training our model\n",
        "history = model.fit(predictors, label, epochs=100, verbose=1)"
      ],
      "metadata": {
        "colab": {
          "base_uri": "https://localhost:8080/"
        },
        "id": "V-p0uPeGr4K9",
        "outputId": "a38c0782-6ea1-438a-acd3-23fd2f30fd6a"
      },
      "execution_count": 15,
      "outputs": [
        {
          "output_type": "stream",
          "name": "stdout",
          "text": [
            "Epoch 1/100\n",
            "444/444 [==============================] - 12s 13ms/step - loss: 7.0485\n",
            "Epoch 2/100\n",
            "444/444 [==============================] - 6s 14ms/step - loss: 6.6528\n",
            "Epoch 3/100\n",
            "444/444 [==============================] - 6s 13ms/step - loss: 6.5219\n",
            "Epoch 4/100\n",
            "444/444 [==============================] - 6s 13ms/step - loss: 6.3731\n",
            "Epoch 5/100\n",
            "444/444 [==============================] - 6s 13ms/step - loss: 6.2137\n",
            "Epoch 6/100\n",
            "444/444 [==============================] - 6s 13ms/step - loss: 6.0593\n",
            "Epoch 7/100\n",
            "444/444 [==============================] - 6s 13ms/step - loss: 5.9196\n",
            "Epoch 8/100\n",
            "444/444 [==============================] - 6s 13ms/step - loss: 5.7822\n",
            "Epoch 9/100\n",
            "444/444 [==============================] - 6s 13ms/step - loss: 5.6459\n",
            "Epoch 10/100\n",
            "444/444 [==============================] - 6s 13ms/step - loss: 5.5047\n",
            "Epoch 11/100\n",
            "444/444 [==============================] - 6s 13ms/step - loss: 5.3661\n",
            "Epoch 12/100\n",
            "444/444 [==============================] - 6s 13ms/step - loss: 5.2382\n",
            "Epoch 13/100\n",
            "444/444 [==============================] - 6s 13ms/step - loss: 5.1132\n",
            "Epoch 14/100\n",
            "444/444 [==============================] - 6s 12ms/step - loss: 4.9852\n",
            "Epoch 15/100\n",
            "444/444 [==============================] - 6s 13ms/step - loss: 4.8622\n",
            "Epoch 16/100\n",
            "444/444 [==============================] - 6s 13ms/step - loss: 4.7432\n",
            "Epoch 17/100\n",
            "444/444 [==============================] - 6s 13ms/step - loss: 4.6237\n",
            "Epoch 18/100\n",
            "444/444 [==============================] - 6s 13ms/step - loss: 4.4993\n",
            "Epoch 19/100\n",
            "444/444 [==============================] - 6s 13ms/step - loss: 4.3892\n",
            "Epoch 20/100\n",
            "444/444 [==============================] - 6s 13ms/step - loss: 4.2775\n",
            "Epoch 21/100\n",
            "444/444 [==============================] - 6s 12ms/step - loss: 4.1660\n",
            "Epoch 22/100\n",
            "444/444 [==============================] - 6s 13ms/step - loss: 4.0619\n",
            "Epoch 23/100\n",
            "444/444 [==============================] - 6s 13ms/step - loss: 3.9601\n",
            "Epoch 24/100\n",
            "444/444 [==============================] - 6s 13ms/step - loss: 3.8563\n",
            "Epoch 25/100\n",
            "444/444 [==============================] - 6s 13ms/step - loss: 3.7650\n",
            "Epoch 26/100\n",
            "444/444 [==============================] - 6s 12ms/step - loss: 3.6628\n",
            "Epoch 27/100\n",
            "444/444 [==============================] - 6s 13ms/step - loss: 3.5731\n",
            "Epoch 28/100\n",
            "444/444 [==============================] - 6s 13ms/step - loss: 3.4715\n",
            "Epoch 29/100\n",
            "444/444 [==============================] - 6s 13ms/step - loss: 3.3957\n",
            "Epoch 30/100\n",
            "444/444 [==============================] - 6s 12ms/step - loss: 3.3154\n",
            "Epoch 31/100\n",
            "444/444 [==============================] - 6s 13ms/step - loss: 3.2233\n",
            "Epoch 32/100\n",
            "444/444 [==============================] - 6s 12ms/step - loss: 3.1573\n",
            "Epoch 33/100\n",
            "444/444 [==============================] - 6s 13ms/step - loss: 3.0896\n",
            "Epoch 34/100\n",
            "444/444 [==============================] - 6s 13ms/step - loss: 3.0222\n",
            "Epoch 35/100\n",
            "444/444 [==============================] - 6s 13ms/step - loss: 2.9587\n",
            "Epoch 36/100\n",
            "444/444 [==============================] - 6s 13ms/step - loss: 2.9008\n",
            "Epoch 37/100\n",
            "444/444 [==============================] - 6s 13ms/step - loss: 2.8435\n",
            "Epoch 38/100\n",
            "444/444 [==============================] - 6s 13ms/step - loss: 2.7725\n",
            "Epoch 39/100\n",
            "444/444 [==============================] - 6s 12ms/step - loss: 2.7293\n",
            "Epoch 40/100\n",
            "444/444 [==============================] - 6s 13ms/step - loss: 2.6755\n",
            "Epoch 41/100\n",
            "444/444 [==============================] - 6s 12ms/step - loss: 2.6214\n",
            "Epoch 42/100\n",
            "444/444 [==============================] - 6s 12ms/step - loss: 2.5764\n",
            "Epoch 43/100\n",
            "444/444 [==============================] - 6s 12ms/step - loss: 2.5294\n",
            "Epoch 44/100\n",
            "444/444 [==============================] - 6s 13ms/step - loss: 2.4830\n",
            "Epoch 45/100\n",
            "444/444 [==============================] - 6s 13ms/step - loss: 2.4318\n",
            "Epoch 46/100\n",
            "444/444 [==============================] - 6s 13ms/step - loss: 2.4062\n",
            "Epoch 47/100\n",
            "444/444 [==============================] - 6s 13ms/step - loss: 2.3703\n",
            "Epoch 48/100\n",
            "444/444 [==============================] - 6s 13ms/step - loss: 2.3209\n",
            "Epoch 49/100\n",
            "444/444 [==============================] - 6s 13ms/step - loss: 2.2821\n",
            "Epoch 50/100\n",
            "444/444 [==============================] - 6s 13ms/step - loss: 2.2543\n",
            "Epoch 51/100\n",
            "444/444 [==============================] - 6s 13ms/step - loss: 2.2168\n",
            "Epoch 52/100\n",
            "444/444 [==============================] - 6s 13ms/step - loss: 2.1832\n",
            "Epoch 53/100\n",
            "444/444 [==============================] - 6s 13ms/step - loss: 2.1492\n",
            "Epoch 54/100\n",
            "444/444 [==============================] - 6s 13ms/step - loss: 2.1232\n",
            "Epoch 55/100\n",
            "444/444 [==============================] - 6s 13ms/step - loss: 2.0824\n",
            "Epoch 56/100\n",
            "444/444 [==============================] - 6s 13ms/step - loss: 2.0511\n",
            "Epoch 57/100\n",
            "444/444 [==============================] - 6s 13ms/step - loss: 2.0274\n",
            "Epoch 58/100\n",
            "444/444 [==============================] - 6s 13ms/step - loss: 1.9985\n",
            "Epoch 59/100\n",
            "444/444 [==============================] - 6s 13ms/step - loss: 1.9610\n",
            "Epoch 60/100\n",
            "444/444 [==============================] - 6s 12ms/step - loss: 1.9363\n",
            "Epoch 61/100\n",
            "444/444 [==============================] - 6s 12ms/step - loss: 1.9163\n",
            "Epoch 62/100\n",
            "444/444 [==============================] - 6s 13ms/step - loss: 1.8988\n",
            "Epoch 63/100\n",
            "444/444 [==============================] - 6s 13ms/step - loss: 1.8767\n",
            "Epoch 64/100\n",
            "444/444 [==============================] - 6s 13ms/step - loss: 1.8465\n",
            "Epoch 65/100\n",
            "444/444 [==============================] - 6s 13ms/step - loss: 1.8279\n",
            "Epoch 66/100\n",
            "444/444 [==============================] - 6s 13ms/step - loss: 1.7925\n",
            "Epoch 67/100\n",
            "444/444 [==============================] - 6s 13ms/step - loss: 1.7707\n",
            "Epoch 68/100\n",
            "444/444 [==============================] - 6s 13ms/step - loss: 1.7452\n",
            "Epoch 69/100\n",
            "444/444 [==============================] - 6s 12ms/step - loss: 1.7380\n",
            "Epoch 70/100\n",
            "444/444 [==============================] - 6s 13ms/step - loss: 1.7233\n",
            "Epoch 71/100\n",
            "444/444 [==============================] - 6s 13ms/step - loss: 1.6870\n",
            "Epoch 72/100\n",
            "444/444 [==============================] - 6s 13ms/step - loss: 1.6882\n",
            "Epoch 73/100\n",
            "444/444 [==============================] - 6s 13ms/step - loss: 1.6585\n",
            "Epoch 74/100\n",
            "444/444 [==============================] - 6s 12ms/step - loss: 1.6450\n",
            "Epoch 75/100\n",
            "444/444 [==============================] - 6s 13ms/step - loss: 1.6237\n",
            "Epoch 76/100\n",
            "444/444 [==============================] - 6s 13ms/step - loss: 1.6004\n",
            "Epoch 77/100\n",
            "444/444 [==============================] - 6s 13ms/step - loss: 1.5903\n",
            "Epoch 78/100\n",
            "444/444 [==============================] - 6s 13ms/step - loss: 1.5687\n",
            "Epoch 79/100\n",
            "444/444 [==============================] - 6s 13ms/step - loss: 1.5501\n",
            "Epoch 80/100\n",
            "444/444 [==============================] - 6s 13ms/step - loss: 1.5424\n",
            "Epoch 81/100\n",
            "444/444 [==============================] - 6s 13ms/step - loss: 1.5218\n",
            "Epoch 82/100\n",
            "444/444 [==============================] - 6s 13ms/step - loss: 1.5077\n",
            "Epoch 83/100\n",
            "444/444 [==============================] - 6s 13ms/step - loss: 1.4700\n",
            "Epoch 84/100\n",
            "444/444 [==============================] - 6s 13ms/step - loss: 1.4620\n",
            "Epoch 85/100\n",
            "444/444 [==============================] - 6s 13ms/step - loss: 1.4677\n",
            "Epoch 86/100\n",
            "444/444 [==============================] - 6s 13ms/step - loss: 1.4361\n",
            "Epoch 87/100\n",
            "444/444 [==============================] - 6s 13ms/step - loss: 1.4340\n",
            "Epoch 88/100\n",
            "444/444 [==============================] - 6s 13ms/step - loss: 1.4175\n",
            "Epoch 89/100\n",
            "444/444 [==============================] - 6s 12ms/step - loss: 1.3979\n",
            "Epoch 90/100\n",
            "444/444 [==============================] - 6s 13ms/step - loss: 1.3981\n",
            "Epoch 91/100\n",
            "444/444 [==============================] - 6s 13ms/step - loss: 1.3777\n",
            "Epoch 92/100\n",
            "444/444 [==============================] - 6s 13ms/step - loss: 1.3650\n",
            "Epoch 93/100\n",
            "444/444 [==============================] - 6s 13ms/step - loss: 1.3525\n",
            "Epoch 94/100\n",
            "444/444 [==============================] - 6s 12ms/step - loss: 1.3429\n",
            "Epoch 95/100\n",
            "444/444 [==============================] - 6s 13ms/step - loss: 1.3291\n",
            "Epoch 96/100\n",
            "444/444 [==============================] - 6s 13ms/step - loss: 1.3208\n",
            "Epoch 97/100\n",
            "444/444 [==============================] - 6s 13ms/step - loss: 1.3064\n",
            "Epoch 98/100\n",
            "444/444 [==============================] - 6s 12ms/step - loss: 1.2850\n",
            "Epoch 99/100\n",
            "444/444 [==============================] - 6s 12ms/step - loss: 1.2822\n",
            "Epoch 100/100\n",
            "444/444 [==============================] - 6s 13ms/step - loss: 1.2753\n"
          ]
        }
      ]
    },
    {
      "cell_type": "code",
      "source": [
        "def generate_text(seed_text, next_words, model, max_sequence_len):\n",
        "  for _ in range(next_words):\n",
        "    token_list = tokenizer.texts_to_sequences([seed_text])[0]\n",
        "    token_list = pad_sequences([token_list], maxlen=max_sequence_len-1, padding='pre')\n",
        "    predicted = np.argmax(model.predict(token_list, verbose=0))\n",
        "\n",
        "    output_word = \"\"\n",
        "    for word, index in tokenizer.word_index.items():\n",
        "      if index == predicted:\n",
        "        output_word = word\n",
        "        break\n",
        "    seed_text += \" \" + output_word\n",
        "\n",
        "  return seed_text.title()"
      ],
      "metadata": {
        "id": "wVxk_YABsBUm"
      },
      "execution_count": 16,
      "outputs": []
    },
    {
      "cell_type": "code",
      "source": [
        "print(generate_text(\"21 things\", 12, model, max_sequence_len))\n",
        "print(generate_text(\"you wouldnt believe\", 15, model, max_sequence_len))\n",
        "print(generate_text(\"hollywood\", 20, model, max_sequence_len))\n",
        "print(generate_text(\"coming this year\", 10, model, max_sequence_len))\n",
        "print(generate_text(\"celebrities\", 8, model, max_sequence_len))"
      ],
      "metadata": {
        "colab": {
          "base_uri": "https://localhost:8080/"
        },
        "id": "ZRTiOZSEulYR",
        "outputId": "99f5df29-7c6e-49ca-f923-8a29a9da38cc"
      },
      "execution_count": 17,
      "outputs": [
        {
          "output_type": "stream",
          "name": "stdout",
          "text": [
            "21 Things That Ll Help Prevent Mess From The Job Is The House To\n",
            "You Wouldnt Believe Out On A Tasty Research Study We Ll Stop Laughing These 20 Other Red Flags\n",
            "Hollywood Of The Best Queer Characters To Appear From Degrassi The Thoughts And I Bet You Re Seen The Movie Of\n",
            "Coming This Year And The Queen Of Our Hearts Us That They Can\n",
            "Celebrities Are Sharing The Most Paranormal Thing That Can\n"
          ]
        }
      ]
    },
    {
      "cell_type": "code",
      "source": [
        "import matplotlib.pyplot as plt\n",
        "%matplotlib inline"
      ],
      "metadata": {
        "id": "Lh-LRQpxvFwm"
      },
      "execution_count": 18,
      "outputs": []
    },
    {
      "cell_type": "code",
      "source": [
        "plt.figure(figsize=(10, 6))\n",
        "plt.plot(history.history['loss'], label=\"Train Loss\")\n",
        "plt.title(\"Model Loss\")\n",
        "plt.ylabel('Loss')\n",
        "plt.xlabel('Epoch')\n",
        "plt.legend(loc='upper right')\n",
        "plt.show();"
      ],
      "metadata": {
        "colab": {
          "base_uri": "https://localhost:8080/",
          "height": 404
        },
        "id": "Jqgvkzw-2C-L",
        "outputId": "85862d0a-a2f7-4a6a-ae5d-c690c2e38cdb"
      },
      "execution_count": 19,
      "outputs": [
        {
          "output_type": "display_data",
          "data": {
            "image/png": "[encoded data removed]",
            "text/plain": [
              "<Figure size 720x432 with 1 Axes>"
            ]
          },
          "metadata": {
            "needs_background": "light"
          }
        }
      ]
    },
    {
      "cell_type": "code",
      "source": [
        ""
      ],
      "metadata": {
        "id": "t0I7iWzB2Tb7"
      },
      "execution_count": null,
      "outputs": []
    }
  ]
}