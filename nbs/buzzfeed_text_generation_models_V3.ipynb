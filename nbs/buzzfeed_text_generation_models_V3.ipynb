{
  "nbformat": 4,
  "nbformat_minor": 0,
  "metadata": {
    "colab": {
      "name": "buzzfeed-text-generation-models-V3.ipynb",
      "provenance": [],
      "collapsed_sections": []
    },
    "kernelspec": {
      "name": "python3",
      "display_name": "Python 3"
    },
    "language_info": {
      "name": "python"
    },
    "accelerator": "GPU"
  },
  "cells": [
    {
      "cell_type": "code",
      "execution_count": 52,
      "metadata": {
        "colab": {
          "base_uri": "https://localhost:8080/"
        },
        "id": "iFBnh6XyhJix",
        "outputId": "b6d585c3-5ada-4372-e45c-b3e9f9c89de9"
      },
      "outputs": [
        {
          "output_type": "stream",
          "name": "stdout",
          "text": [
            "[nltk_data] Downloading package stopwords to /root/nltk_data...\n",
            "[nltk_data]   Package stopwords is already up-to-date!\n"
          ]
        }
      ],
      "source": [
        "import pandas as pd\n",
        "import numpy as np\n",
        "import nltk\n",
        "nltk.download('stopwords')\n",
        "from nltk.corpus import stopwords"
      ]
    },
    {
      "cell_type": "code",
      "source": [
        "df = pd.read_csv('/content/buzzfeed_headlines.csv')\n",
        "df.sample(5)"
      ],
      "metadata": {
        "colab": {
          "base_uri": "https://localhost:8080/",
          "height": 206
        },
        "id": "7P2RKGS0hX1z",
        "outputId": "b5ff4000-219e-4d3b-dadb-1dd0ec87395e"
      },
      "execution_count": 53,
      "outputs": [
        {
          "output_type": "execute_result",
          "data": {
            "text/html": [
              "\n",
              "  <div id=\"df-66c71995-660d-42c2-9f8b-851755962b10\">\n",
              "    <div class=\"colab-df-container\">\n",
              "      <div>\n",
              "<style scoped>\n",
              "    .dataframe tbody tr th:only-of-type {\n",
              "        vertical-align: middle;\n",
              "    }\n",
              "\n",
              "    .dataframe tbody tr th {\n",
              "        vertical-align: top;\n",
              "    }\n",
              "\n",
              "    .dataframe thead th {\n",
              "        text-align: right;\n",
              "    }\n",
              "</style>\n",
              "<table border=\"1\" class=\"dataframe\">\n",
              "  <thead>\n",
              "    <tr style=\"text-align: right;\">\n",
              "      <th></th>\n",
              "      <th>content</th>\n",
              "      <th>description</th>\n",
              "      <th>title</th>\n",
              "    </tr>\n",
              "  </thead>\n",
              "  <tbody>\n",
              "    <tr>\n",
              "      <th>547</th>\n",
              "      <td>Get all the best Tasty recipes in your inbox! ...</td>\n",
              "      <td>Thankful I wasn't there!View Entire Post ›</td>\n",
              "      <td>14 Thanksgiving Fails I Wouldn't Even Wish Upo...</td>\n",
              "    </tr>\n",
              "    <tr>\n",
              "      <th>353</th>\n",
              "      <td>Hallow-queens and kings of fashion.</td>\n",
              "      <td>Hallow-queens and kings of fashion. View Entir...</td>\n",
              "      <td>TBH, These 30 Red Carpet Looks Would Make Pret...</td>\n",
              "    </tr>\n",
              "    <tr>\n",
              "      <th>499</th>\n",
              "      <td>Sign up to the BuzzFeed Quizzes Newsletter - B...</td>\n",
              "      <td>It's giving nail polish tbh...View Entire Post ›</td>\n",
              "      <td>If You Stan Harry Styles, Choose Some Pets And...</td>\n",
              "    </tr>\n",
              "    <tr>\n",
              "      <th>173</th>\n",
              "      <td>Frank Ockenfels / ABC via Getty Images\\r\\nThos...</td>\n",
              "      <td>Baskin participated in a candid Reddit AMA and...</td>\n",
              "      <td>Carole Baskin Of \"Tiger King\" Revealed What Sh...</td>\n",
              "    </tr>\n",
              "    <tr>\n",
              "      <th>241</th>\n",
              "      <td>Note: In case you didn't know, a multilevel ma...</td>\n",
              "      <td>\"Sorry your grandma died... Please buy my prod...</td>\n",
              "      <td>16 Times The \"Boss Babes\" In MLMs Took Things ...</td>\n",
              "    </tr>\n",
              "  </tbody>\n",
              "</table>\n",
              "</div>\n",
              "      <button class=\"colab-df-convert\" onclick=\"convertToInteractive('df-66c71995-660d-42c2-9f8b-851755962b10')\"\n",
              "              title=\"Convert this dataframe to an interactive table.\"\n",
              "              style=\"display:none;\">\n",
              "        \n",
              "  <svg xmlns=\"http://www.w3.org/2000/svg\" height=\"24px\"viewBox=\"0 0 24 24\"\n",
              "       width=\"24px\">\n",
              "    <path d=\"M0 0h24v24H0V0z\" fill=\"none\"/>\n",
              "    <path d=\"M18.56 5.44l.94 2.06.94-2.06 2.06-.94-2.06-.94-.94-2.06-.94 2.06-2.06.94zm-11 1L8.5 8.5l.94-2.06 2.06-.94-2.06-.94L8.5 2.5l-.94 2.06-2.06.94zm10 10l.94 2.06.94-2.06 2.06-.94-2.06-.94-.94-2.06-.94 2.06-2.06.94z\"/><path d=\"M17.41 7.96l-1.37-1.37c-.4-.4-.92-.59-1.43-.59-.52 0-1.04.2-1.43.59L10.3 9.45l-7.72 7.72c-.78.78-.78 2.05 0 2.83L4 21.41c.39.39.9.59 1.41.59.51 0 1.02-.2 1.41-.59l7.78-7.78 2.81-2.81c.8-.78.8-2.07 0-2.86zM5.41 20L4 18.59l7.72-7.72 1.47 1.35L5.41 20z\"/>\n",
              "  </svg>\n",
              "      </button>\n",
              "      \n",
              "  <style>\n",
              "    .colab-df-container {\n",
              "      display:flex;\n",
              "      flex-wrap:wrap;\n",
              "      gap: 12px;\n",
              "    }\n",
              "\n",
              "    .colab-df-convert {\n",
              "      background-color: #E8F0FE;\n",
              "      border: none;\n",
              "      border-radius: 50%;\n",
              "      cursor: pointer;\n",
              "      display: none;\n",
              "      fill: #1967D2;\n",
              "      height: 32px;\n",
              "      padding: 0 0 0 0;\n",
              "      width: 32px;\n",
              "    }\n",
              "\n",
              "    .colab-df-convert:hover {\n",
              "      background-color: #E2EBFA;\n",
              "      box-shadow: 0px 1px 2px rgba(60, 64, 67, 0.3), 0px 1px 3px 1px rgba(60, 64, 67, 0.15);\n",
              "      fill: #174EA6;\n",
              "    }\n",
              "\n",
              "    [theme=dark] .colab-df-convert {\n",
              "      background-color: #3B4455;\n",
              "      fill: #D2E3FC;\n",
              "    }\n",
              "\n",
              "    [theme=dark] .colab-df-convert:hover {\n",
              "      background-color: #434B5C;\n",
              "      box-shadow: 0px 1px 3px 1px rgba(0, 0, 0, 0.15);\n",
              "      filter: drop-shadow(0px 1px 2px rgba(0, 0, 0, 0.3));\n",
              "      fill: #FFFFFF;\n",
              "    }\n",
              "  </style>\n",
              "\n",
              "      <script>\n",
              "        const buttonEl =\n",
              "          document.querySelector('#df-66c71995-660d-42c2-9f8b-851755962b10 button.colab-df-convert');\n",
              "        buttonEl.style.display =\n",
              "          google.colab.kernel.accessAllowed ? 'block' : 'none';\n",
              "\n",
              "        async function convertToInteractive(key) {\n",
              "          const element = document.querySelector('#df-66c71995-660d-42c2-9f8b-851755962b10');\n",
              "          const dataTable =\n",
              "            await google.colab.kernel.invokeFunction('convertToInteractive',\n",
              "                                                     [key], {});\n",
              "          if (!dataTable) return;\n",
              "\n",
              "          const docLinkHtml = 'Like what you see? Visit the ' +\n",
              "            '<a target=\"_blank\" href=https://colab.research.google.com/notebooks/data_table.ipynb>data table notebook</a>'\n",
              "            + ' to learn more about interactive tables.';\n",
              "          element.innerHTML = '';\n",
              "          dataTable['output_type'] = 'display_data';\n",
              "          await google.colab.output.renderOutput(dataTable, element);\n",
              "          const docLink = document.createElement('div');\n",
              "          docLink.innerHTML = docLinkHtml;\n",
              "          element.appendChild(docLink);\n",
              "        }\n",
              "      </script>\n",
              "    </div>\n",
              "  </div>\n",
              "  "
            ],
            "text/plain": [
              "                                               content  ...                                              title\n",
              "547  Get all the best Tasty recipes in your inbox! ...  ...  14 Thanksgiving Fails I Wouldn't Even Wish Upo...\n",
              "353                Hallow-queens and kings of fashion.  ...  TBH, These 30 Red Carpet Looks Would Make Pret...\n",
              "499  Sign up to the BuzzFeed Quizzes Newsletter - B...  ...  If You Stan Harry Styles, Choose Some Pets And...\n",
              "173  Frank Ockenfels / ABC via Getty Images\\r\\nThos...  ...  Carole Baskin Of \"Tiger King\" Revealed What Sh...\n",
              "241  Note: In case you didn't know, a multilevel ma...  ...  16 Times The \"Boss Babes\" In MLMs Took Things ...\n",
              "\n",
              "[5 rows x 3 columns]"
            ]
          },
          "metadata": {},
          "execution_count": 53
        }
      ]
    },
    {
      "cell_type": "code",
      "source": [
        "df.drop(['content', 'description'], axis=1, inplace=True)"
      ],
      "metadata": {
        "id": "dQJLWTAdheQo"
      },
      "execution_count": 54,
      "outputs": []
    },
    {
      "cell_type": "code",
      "source": [
        "!pip install langdetect"
      ],
      "metadata": {
        "colab": {
          "base_uri": "https://localhost:8080/"
        },
        "id": "S34KdGBHhjqx",
        "outputId": "056cd9f3-9689-44c8-cf98-d16b90b10d68"
      },
      "execution_count": 55,
      "outputs": [
        {
          "output_type": "stream",
          "name": "stdout",
          "text": [
            "Requirement already satisfied: langdetect in /usr/local/lib/python3.7/dist-packages (1.0.9)\n",
            "Requirement already satisfied: six in /usr/local/lib/python3.7/dist-packages (from langdetect) (1.15.0)\n"
          ]
        }
      ]
    },
    {
      "cell_type": "code",
      "source": [
        "from langdetect import detect"
      ],
      "metadata": {
        "id": "avAef0QSh4eR"
      },
      "execution_count": 56,
      "outputs": []
    },
    {
      "cell_type": "code",
      "source": [
        "def detect_lang(txt):\n",
        "    try:\n",
        "        return detect(txt)\n",
        "    except:\n",
        "        return np.nan\n",
        "    \n",
        "df['language'] = df.title.apply(detect_lang)\n",
        "df = df[df.language == \"en\"]\n",
        "df = df.drop('language', axis=1)"
      ],
      "metadata": {
        "id": "bGo5J36Dh-43"
      },
      "execution_count": 57,
      "outputs": []
    },
    {
      "cell_type": "code",
      "source": [
        "df.isna().sum()"
      ],
      "metadata": {
        "colab": {
          "base_uri": "https://localhost:8080/"
        },
        "id": "X09ZKumpiDSX",
        "outputId": "22d6406c-8b0d-4761-b77d-88e51a51d476"
      },
      "execution_count": 58,
      "outputs": [
        {
          "output_type": "execute_result",
          "data": {
            "text/plain": [
              "title    0\n",
              "dtype: int64"
            ]
          },
          "metadata": {},
          "execution_count": 58
        }
      ]
    },
    {
      "cell_type": "code",
      "source": [
        "df.sample(12)"
      ],
      "metadata": {
        "colab": {
          "base_uri": "https://localhost:8080/",
          "height": 426
        },
        "id": "cyzzE1dTiM-R",
        "outputId": "66c77554-4324-4319-c526-34ab1f6455dd"
      },
      "execution_count": 59,
      "outputs": [
        {
          "output_type": "execute_result",
          "data": {
            "text/html": [
              "\n",
              "  <div id=\"df-904173eb-a6b7-4637-9163-9be9d69248d1\">\n",
              "    <div class=\"colab-df-container\">\n",
              "      <div>\n",
              "<style scoped>\n",
              "    .dataframe tbody tr th:only-of-type {\n",
              "        vertical-align: middle;\n",
              "    }\n",
              "\n",
              "    .dataframe tbody tr th {\n",
              "        vertical-align: top;\n",
              "    }\n",
              "\n",
              "    .dataframe thead th {\n",
              "        text-align: right;\n",
              "    }\n",
              "</style>\n",
              "<table border=\"1\" class=\"dataframe\">\n",
              "  <thead>\n",
              "    <tr style=\"text-align: right;\">\n",
              "      <th></th>\n",
              "      <th>title</th>\n",
              "    </tr>\n",
              "  </thead>\n",
              "  <tbody>\n",
              "    <tr>\n",
              "      <th>402</th>\n",
              "      <td>What Questions Does \"Squid Game\" Season Two Ne...</td>\n",
              "    </tr>\n",
              "    <tr>\n",
              "      <th>657</th>\n",
              "      <td>Let's Rank The Wildest Moments On \"You\" Season...</td>\n",
              "    </tr>\n",
              "    <tr>\n",
              "      <th>60</th>\n",
              "      <td>These 13 Rules Are Considered Part Of The Unsp...</td>\n",
              "    </tr>\n",
              "    <tr>\n",
              "      <th>571</th>\n",
              "      <td>Chances Are, Your Birth Control Comes With A L...</td>\n",
              "    </tr>\n",
              "    <tr>\n",
              "      <th>398</th>\n",
              "      <td>38 Shocking Photos Of Iconic Places Now Vs. If...</td>\n",
              "    </tr>\n",
              "    <tr>\n",
              "      <th>600</th>\n",
              "      <td>Two Months Ago, I Switched One Thing In My Ski...</td>\n",
              "    </tr>\n",
              "    <tr>\n",
              "      <th>135</th>\n",
              "      <td>Here's A Recap Of The Latest Celeb News — The ...</td>\n",
              "    </tr>\n",
              "    <tr>\n",
              "      <th>144</th>\n",
              "      <td>Prince Harry And Meghan Markle Made A Statemen...</td>\n",
              "    </tr>\n",
              "    <tr>\n",
              "      <th>456</th>\n",
              "      <td>Zendaya And Tom Holland's Adorable Instagram I...</td>\n",
              "    </tr>\n",
              "    <tr>\n",
              "      <th>412</th>\n",
              "      <td>Former Victoria's Secret Angel Erin Heatherton...</td>\n",
              "    </tr>\n",
              "    <tr>\n",
              "      <th>380</th>\n",
              "      <td>22 Self-Care Products Parents Will Want To Tre...</td>\n",
              "    </tr>\n",
              "    <tr>\n",
              "      <th>223</th>\n",
              "      <td>16 Unhinged Things Celeb Couples Have Done In ...</td>\n",
              "    </tr>\n",
              "  </tbody>\n",
              "</table>\n",
              "</div>\n",
              "      <button class=\"colab-df-convert\" onclick=\"convertToInteractive('df-904173eb-a6b7-4637-9163-9be9d69248d1')\"\n",
              "              title=\"Convert this dataframe to an interactive table.\"\n",
              "              style=\"display:none;\">\n",
              "        \n",
              "  <svg xmlns=\"http://www.w3.org/2000/svg\" height=\"24px\"viewBox=\"0 0 24 24\"\n",
              "       width=\"24px\">\n",
              "    <path d=\"M0 0h24v24H0V0z\" fill=\"none\"/>\n",
              "    <path d=\"M18.56 5.44l.94 2.06.94-2.06 2.06-.94-2.06-.94-.94-2.06-.94 2.06-2.06.94zm-11 1L8.5 8.5l.94-2.06 2.06-.94-2.06-.94L8.5 2.5l-.94 2.06-2.06.94zm10 10l.94 2.06.94-2.06 2.06-.94-2.06-.94-.94-2.06-.94 2.06-2.06.94z\"/><path d=\"M17.41 7.96l-1.37-1.37c-.4-.4-.92-.59-1.43-.59-.52 0-1.04.2-1.43.59L10.3 9.45l-7.72 7.72c-.78.78-.78 2.05 0 2.83L4 21.41c.39.39.9.59 1.41.59.51 0 1.02-.2 1.41-.59l7.78-7.78 2.81-2.81c.8-.78.8-2.07 0-2.86zM5.41 20L4 18.59l7.72-7.72 1.47 1.35L5.41 20z\"/>\n",
              "  </svg>\n",
              "      </button>\n",
              "      \n",
              "  <style>\n",
              "    .colab-df-container {\n",
              "      display:flex;\n",
              "      flex-wrap:wrap;\n",
              "      gap: 12px;\n",
              "    }\n",
              "\n",
              "    .colab-df-convert {\n",
              "      background-color: #E8F0FE;\n",
              "      border: none;\n",
              "      border-radius: 50%;\n",
              "      cursor: pointer;\n",
              "      display: none;\n",
              "      fill: #1967D2;\n",
              "      height: 32px;\n",
              "      padding: 0 0 0 0;\n",
              "      width: 32px;\n",
              "    }\n",
              "\n",
              "    .colab-df-convert:hover {\n",
              "      background-color: #E2EBFA;\n",
              "      box-shadow: 0px 1px 2px rgba(60, 64, 67, 0.3), 0px 1px 3px 1px rgba(60, 64, 67, 0.15);\n",
              "      fill: #174EA6;\n",
              "    }\n",
              "\n",
              "    [theme=dark] .colab-df-convert {\n",
              "      background-color: #3B4455;\n",
              "      fill: #D2E3FC;\n",
              "    }\n",
              "\n",
              "    [theme=dark] .colab-df-convert:hover {\n",
              "      background-color: #434B5C;\n",
              "      box-shadow: 0px 1px 3px 1px rgba(0, 0, 0, 0.15);\n",
              "      filter: drop-shadow(0px 1px 2px rgba(0, 0, 0, 0.3));\n",
              "      fill: #FFFFFF;\n",
              "    }\n",
              "  </style>\n",
              "\n",
              "      <script>\n",
              "        const buttonEl =\n",
              "          document.querySelector('#df-904173eb-a6b7-4637-9163-9be9d69248d1 button.colab-df-convert');\n",
              "        buttonEl.style.display =\n",
              "          google.colab.kernel.accessAllowed ? 'block' : 'none';\n",
              "\n",
              "        async function convertToInteractive(key) {\n",
              "          const element = document.querySelector('#df-904173eb-a6b7-4637-9163-9be9d69248d1');\n",
              "          const dataTable =\n",
              "            await google.colab.kernel.invokeFunction('convertToInteractive',\n",
              "                                                     [key], {});\n",
              "          if (!dataTable) return;\n",
              "\n",
              "          const docLinkHtml = 'Like what you see? Visit the ' +\n",
              "            '<a target=\"_blank\" href=https://colab.research.google.com/notebooks/data_table.ipynb>data table notebook</a>'\n",
              "            + ' to learn more about interactive tables.';\n",
              "          element.innerHTML = '';\n",
              "          dataTable['output_type'] = 'display_data';\n",
              "          await google.colab.output.renderOutput(dataTable, element);\n",
              "          const docLink = document.createElement('div');\n",
              "          docLink.innerHTML = docLinkHtml;\n",
              "          element.appendChild(docLink);\n",
              "        }\n",
              "      </script>\n",
              "    </div>\n",
              "  </div>\n",
              "  "
            ],
            "text/plain": [
              "                                                 title\n",
              "402  What Questions Does \"Squid Game\" Season Two Ne...\n",
              "657  Let's Rank The Wildest Moments On \"You\" Season...\n",
              "60   These 13 Rules Are Considered Part Of The Unsp...\n",
              "571  Chances Are, Your Birth Control Comes With A L...\n",
              "398  38 Shocking Photos Of Iconic Places Now Vs. If...\n",
              "600  Two Months Ago, I Switched One Thing In My Ski...\n",
              "135  Here's A Recap Of The Latest Celeb News — The ...\n",
              "144  Prince Harry And Meghan Markle Made A Statemen...\n",
              "456  Zendaya And Tom Holland's Adorable Instagram I...\n",
              "412  Former Victoria's Secret Angel Erin Heatherton...\n",
              "380  22 Self-Care Products Parents Will Want To Tre...\n",
              "223  16 Unhinged Things Celeb Couples Have Done In ..."
            ]
          },
          "metadata": {},
          "execution_count": 59
        }
      ]
    },
    {
      "cell_type": "code",
      "source": [
        "# Not going to remove stop words at first to see if the models\n",
        "# can pick up proper syntax of everything and spit out a \n",
        "# headline that looks really similar to real ones rather than \n",
        "# headlines with no stop words\n",
        "\n",
        "# also going to leave the tokenization until later when \n",
        "# we do it through TF/Keras\n",
        "import string\n",
        "\n",
        "def preprocess(df):\n",
        "  # stop_words = stopwords.words('english')\n",
        "  df['title'] = df['title'].str.lower()\n",
        "  df['title'] = df['title'].str.replace('[^a-zA-Z0-9]', ' ') # replace non-alphanumeric characters with spaces\n",
        "  df['title'] = df['title'].str.replace('\\s+', ' ') # replace multiple spaces with a single space\n",
        "  df['title'] = df['title'].str.strip() # remove leading and trailing spaces\n",
        "  # df['title'] = df['title'].apply(lambda x: ' '.join([word for word in x.split() if word not in (stop_words)]))\n",
        "\n",
        "  return df\n",
        "\n",
        "df = preprocess(df)\n",
        "df.sample(12)"
      ],
      "metadata": {
        "colab": {
          "base_uri": "https://localhost:8080/",
          "height": 426
        },
        "id": "p-9XaAkoiRMx",
        "outputId": "4fbf89e6-7f69-45dd-fb07-0638d6a5ea4a"
      },
      "execution_count": 60,
      "outputs": [
        {
          "output_type": "execute_result",
          "data": {
            "text/html": [
              "\n",
              "  <div id=\"df-c1e8ef4d-c4e8-470c-979d-5d3d86794c77\">\n",
              "    <div class=\"colab-df-container\">\n",
              "      <div>\n",
              "<style scoped>\n",
              "    .dataframe tbody tr th:only-of-type {\n",
              "        vertical-align: middle;\n",
              "    }\n",
              "\n",
              "    .dataframe tbody tr th {\n",
              "        vertical-align: top;\n",
              "    }\n",
              "\n",
              "    .dataframe thead th {\n",
              "        text-align: right;\n",
              "    }\n",
              "</style>\n",
              "<table border=\"1\" class=\"dataframe\">\n",
              "  <thead>\n",
              "    <tr style=\"text-align: right;\">\n",
              "      <th></th>\n",
              "      <th>title</th>\n",
              "    </tr>\n",
              "  </thead>\n",
              "  <tbody>\n",
              "    <tr>\n",
              "      <th>56</th>\n",
              "      <td>23 product before and after photos you will pr...</td>\n",
              "    </tr>\n",
              "    <tr>\n",
              "      <th>122</th>\n",
              "      <td>i wish i d always known these 19 empowering fa...</td>\n",
              "    </tr>\n",
              "    <tr>\n",
              "      <th>369</th>\n",
              "      <td>these 18 posts are straight out of an alternat...</td>\n",
              "    </tr>\n",
              "    <tr>\n",
              "      <th>559</th>\n",
              "      <td>adele recalled feeling ashamed during her divo...</td>\n",
              "    </tr>\n",
              "    <tr>\n",
              "      <th>584</th>\n",
              "      <td>14 people told us how having no student loan d...</td>\n",
              "    </tr>\n",
              "    <tr>\n",
              "      <th>47</th>\n",
              "      <td>lena dunham explained why a girls reboot isn t...</td>\n",
              "    </tr>\n",
              "    <tr>\n",
              "      <th>172</th>\n",
              "      <td>i simply don t understand why more people aren...</td>\n",
              "    </tr>\n",
              "    <tr>\n",
              "      <th>478</th>\n",
              "      <td>the mentalist actor simon baker has reportedly...</td>\n",
              "    </tr>\n",
              "    <tr>\n",
              "      <th>518</th>\n",
              "      <td>whoopi goldberg refused to wear fake jewels in...</td>\n",
              "    </tr>\n",
              "    <tr>\n",
              "      <th>649</th>\n",
              "      <td>mindy kaling dressed up as issa rae elle woods...</td>\n",
              "    </tr>\n",
              "    <tr>\n",
              "      <th>398</th>\n",
              "      <td>38 shocking photos of iconic places now vs if ...</td>\n",
              "    </tr>\n",
              "    <tr>\n",
              "      <th>520</th>\n",
              "      <td>people who used to be wealthy and aren t anymo...</td>\n",
              "    </tr>\n",
              "  </tbody>\n",
              "</table>\n",
              "</div>\n",
              "      <button class=\"colab-df-convert\" onclick=\"convertToInteractive('df-c1e8ef4d-c4e8-470c-979d-5d3d86794c77')\"\n",
              "              title=\"Convert this dataframe to an interactive table.\"\n",
              "              style=\"display:none;\">\n",
              "        \n",
              "  <svg xmlns=\"http://www.w3.org/2000/svg\" height=\"24px\"viewBox=\"0 0 24 24\"\n",
              "       width=\"24px\">\n",
              "    <path d=\"M0 0h24v24H0V0z\" fill=\"none\"/>\n",
              "    <path d=\"M18.56 5.44l.94 2.06.94-2.06 2.06-.94-2.06-.94-.94-2.06-.94 2.06-2.06.94zm-11 1L8.5 8.5l.94-2.06 2.06-.94-2.06-.94L8.5 2.5l-.94 2.06-2.06.94zm10 10l.94 2.06.94-2.06 2.06-.94-2.06-.94-.94-2.06-.94 2.06-2.06.94z\"/><path d=\"M17.41 7.96l-1.37-1.37c-.4-.4-.92-.59-1.43-.59-.52 0-1.04.2-1.43.59L10.3 9.45l-7.72 7.72c-.78.78-.78 2.05 0 2.83L4 21.41c.39.39.9.59 1.41.59.51 0 1.02-.2 1.41-.59l7.78-7.78 2.81-2.81c.8-.78.8-2.07 0-2.86zM5.41 20L4 18.59l7.72-7.72 1.47 1.35L5.41 20z\"/>\n",
              "  </svg>\n",
              "      </button>\n",
              "      \n",
              "  <style>\n",
              "    .colab-df-container {\n",
              "      display:flex;\n",
              "      flex-wrap:wrap;\n",
              "      gap: 12px;\n",
              "    }\n",
              "\n",
              "    .colab-df-convert {\n",
              "      background-color: #E8F0FE;\n",
              "      border: none;\n",
              "      border-radius: 50%;\n",
              "      cursor: pointer;\n",
              "      display: none;\n",
              "      fill: #1967D2;\n",
              "      height: 32px;\n",
              "      padding: 0 0 0 0;\n",
              "      width: 32px;\n",
              "    }\n",
              "\n",
              "    .colab-df-convert:hover {\n",
              "      background-color: #E2EBFA;\n",
              "      box-shadow: 0px 1px 2px rgba(60, 64, 67, 0.3), 0px 1px 3px 1px rgba(60, 64, 67, 0.15);\n",
              "      fill: #174EA6;\n",
              "    }\n",
              "\n",
              "    [theme=dark] .colab-df-convert {\n",
              "      background-color: #3B4455;\n",
              "      fill: #D2E3FC;\n",
              "    }\n",
              "\n",
              "    [theme=dark] .colab-df-convert:hover {\n",
              "      background-color: #434B5C;\n",
              "      box-shadow: 0px 1px 3px 1px rgba(0, 0, 0, 0.15);\n",
              "      filter: drop-shadow(0px 1px 2px rgba(0, 0, 0, 0.3));\n",
              "      fill: #FFFFFF;\n",
              "    }\n",
              "  </style>\n",
              "\n",
              "      <script>\n",
              "        const buttonEl =\n",
              "          document.querySelector('#df-c1e8ef4d-c4e8-470c-979d-5d3d86794c77 button.colab-df-convert');\n",
              "        buttonEl.style.display =\n",
              "          google.colab.kernel.accessAllowed ? 'block' : 'none';\n",
              "\n",
              "        async function convertToInteractive(key) {\n",
              "          const element = document.querySelector('#df-c1e8ef4d-c4e8-470c-979d-5d3d86794c77');\n",
              "          const dataTable =\n",
              "            await google.colab.kernel.invokeFunction('convertToInteractive',\n",
              "                                                     [key], {});\n",
              "          if (!dataTable) return;\n",
              "\n",
              "          const docLinkHtml = 'Like what you see? Visit the ' +\n",
              "            '<a target=\"_blank\" href=https://colab.research.google.com/notebooks/data_table.ipynb>data table notebook</a>'\n",
              "            + ' to learn more about interactive tables.';\n",
              "          element.innerHTML = '';\n",
              "          dataTable['output_type'] = 'display_data';\n",
              "          await google.colab.output.renderOutput(dataTable, element);\n",
              "          const docLink = document.createElement('div');\n",
              "          docLink.innerHTML = docLinkHtml;\n",
              "          element.appendChild(docLink);\n",
              "        }\n",
              "      </script>\n",
              "    </div>\n",
              "  </div>\n",
              "  "
            ],
            "text/plain": [
              "                                                 title\n",
              "56   23 product before and after photos you will pr...\n",
              "122  i wish i d always known these 19 empowering fa...\n",
              "369  these 18 posts are straight out of an alternat...\n",
              "559  adele recalled feeling ashamed during her divo...\n",
              "584  14 people told us how having no student loan d...\n",
              "47   lena dunham explained why a girls reboot isn t...\n",
              "172  i simply don t understand why more people aren...\n",
              "478  the mentalist actor simon baker has reportedly...\n",
              "518  whoopi goldberg refused to wear fake jewels in...\n",
              "649  mindy kaling dressed up as issa rae elle woods...\n",
              "398  38 shocking photos of iconic places now vs if ...\n",
              "520  people who used to be wealthy and aren t anymo..."
            ]
          },
          "metadata": {},
          "execution_count": 60
        }
      ]
    },
    {
      "cell_type": "code",
      "source": [
        "import tensorflow\n",
        "from tensorflow.keras.preprocessing.sequence import pad_sequences\n",
        "from tensorflow.keras.layers import Embedding, LSTM, Dense, Dropout\n",
        "from tensorflow.keras.preprocessing.text import Tokenizer\n",
        "from tensorflow.keras.callbacks import EarlyStopping\n",
        "from tensorflow.keras.models import Sequential\n",
        "import tensorflow.keras.utils as ku\n",
        "from tensorflow.random import set_seed\n",
        "from numpy.random import seed\n",
        "\n",
        "set_seed(2022)\n",
        "seed(1)"
      ],
      "metadata": {
        "id": "8sQQ9bFlin87"
      },
      "execution_count": 61,
      "outputs": []
    },
    {
      "cell_type": "code",
      "source": [
        "corpus = [title for title in df['title']]\n",
        "corpus[:10]"
      ],
      "metadata": {
        "colab": {
          "base_uri": "https://localhost:8080/"
        },
        "id": "GRWchMPKnx_7",
        "outputId": "80c91d23-0cdb-483b-860f-2b2d8797b55b"
      },
      "execution_count": 62,
      "outputs": [
        {
          "output_type": "execute_result",
          "data": {
            "text/plain": [
              "['16 wholesome details from tv and movies that show they were quite literally made with love',\n",
              " 'jacob elordi has been living the dream filming passionate love scenes with sydney sweeney on euphoria and he knows it',\n",
              " 'people are sharing things that helped them get a better work life balance and it s so refreshing',\n",
              " '7 actors who were considered too ugly for a role and 8 who weren t ugly enough',\n",
              " 'brian cox says he turned down a role in pirates of the caribbean',\n",
              " 'eat at this dessert buffet like a toddler at a birthday party and i ll tell you which bsc character you remind me of',\n",
              " 'directors must really love these 17 pairs of actors together since they keep getting cast as costars',\n",
              " 'all of the major pop culture happenings this week from celebrity tributes to new trailers',\n",
              " 'aussies are sharing how their experiences overseas have changed their view on australia and the responses are fascinating',\n",
              " 'telling you not to discuss your pay with coworkers and 18 other red flags in the workplace']"
            ]
          },
          "metadata": {},
          "execution_count": 62
        }
      ]
    },
    {
      "cell_type": "code",
      "source": [
        "# Generating Sequence of N-gram Tokens\n",
        "\n",
        "tokenizer = Tokenizer()\n",
        "\n",
        "def get_sequence_of_tokens(corpus):\n",
        "  # tokenization\n",
        "  tokenizer.fit_on_texts(corpus)\n",
        "  total_words = len(tokenizer.word_index) + 1\n",
        "\n",
        "  # convert data to sequence of tokens\n",
        "  input_sequences = []\n",
        "  for line in corpus:\n",
        "    token_list = tokenizer.texts_to_sequences([line])[0]\n",
        "    for i in range(1, len(token_list)):\n",
        "      n_gram_sequence = token_list[:i+1]\n",
        "      input_sequences.append(n_gram_sequence)\n",
        "  return input_sequences, total_words\n",
        "\n",
        "inp_sequences, total_words = get_sequence_of_tokens(corpus)\n",
        "inp_sequences[:10]"
      ],
      "metadata": {
        "colab": {
          "base_uri": "https://localhost:8080/"
        },
        "id": "H-8yh_xzosdU",
        "outputId": "610d905d-c313-474a-c160-b131be16ed42"
      },
      "execution_count": 63,
      "outputs": [
        {
          "output_type": "execute_result",
          "data": {
            "text/plain": [
              "[[116, 298],\n",
              " [116, 298, 179],\n",
              " [116, 298, 179, 24],\n",
              " [116, 298, 179, 24, 85],\n",
              " [116, 298, 179, 24, 85, 2],\n",
              " [116, 298, 179, 24, 85, 2, 117],\n",
              " [116, 298, 179, 24, 85, 2, 117, 7],\n",
              " [116, 298, 179, 24, 85, 2, 117, 7, 107],\n",
              " [116, 298, 179, 24, 85, 2, 117, 7, 107, 17],\n",
              " [116, 298, 179, 24, 85, 2, 117, 7, 107, 17, 48]]"
            ]
          },
          "metadata": {},
          "execution_count": 63
        }
      ]
    },
    {
      "cell_type": "code",
      "source": [
        "# Padding the Sequences and get predictors & targets/labels\n",
        "\n",
        "def generate_padded_sequences(input_sequences):\n",
        "  max_sequence_len = max([len(x) for x in input_sequences])\n",
        "  input_sequences = np.array(pad_sequences(input_sequences, maxlen=max_sequence_len, padding='pre'))\n",
        "  predictors, label = input_sequences[:,:-1], input_sequences[:, -1]\n",
        "  label = ku.to_categorical(label, num_classes=total_words)\n",
        "  return predictors, label, max_sequence_len\n",
        "\n",
        "predictors, label, max_sequence_len = generate_padded_sequences(inp_sequences)"
      ],
      "metadata": {
        "id": "1woacBhdpcdU"
      },
      "execution_count": 64,
      "outputs": []
    },
    {
      "cell_type": "code",
      "source": [
        "from tensorflow.python.keras.utils.data_utils import Sequence\n",
        "# LSTM model for Text Generation\n",
        "\n",
        "def create_model(max_sequence_len, total_words):\n",
        "  input_len = max_sequence_len - 1\n",
        "  model = Sequential()\n",
        "\n",
        "  # Input Embedding Layer\n",
        "  model.add(Embedding(total_words, 10, input_length=input_len))\n",
        "\n",
        "  # Add a Hidden Layer - LSTM Layer\n",
        "  model.add(LSTM(100))\n",
        "  model.add(Dropout(0.2))\n",
        "\n",
        "  # Add Output Layer\n",
        "  model.add(Dense(total_words, activation='softmax'))\n",
        "\n",
        "  model.compile(loss='categorical_crossentropy', optimizer='adam')\n",
        "  return model\n",
        "\n",
        "model = create_model(max_sequence_len, total_words)\n",
        "model.summary()"
      ],
      "metadata": {
        "colab": {
          "base_uri": "https://localhost:8080/"
        },
        "id": "3qJa_BSUq_vy",
        "outputId": "df587cd6-180a-4032-da26-1a425a190279"
      },
      "execution_count": 65,
      "outputs": [
        {
          "output_type": "stream",
          "name": "stdout",
          "text": [
            "Model: \"sequential_2\"\n",
            "_________________________________________________________________\n",
            " Layer (type)                Output Shape              Param #   \n",
            "=================================================================\n",
            " embedding_2 (Embedding)     (None, 29, 10)            26930     \n",
            "                                                                 \n",
            " lstm_2 (LSTM)               (None, 100)               44400     \n",
            "                                                                 \n",
            " dropout_1 (Dropout)         (None, 100)               0         \n",
            "                                                                 \n",
            " dense_1 (Dense)             (None, 2693)              271993    \n",
            "                                                                 \n",
            "=================================================================\n",
            "Total params: 343,323\n",
            "Trainable params: 343,323\n",
            "Non-trainable params: 0\n",
            "_________________________________________________________________\n"
          ]
        }
      ]
    },
    {
      "cell_type": "code",
      "source": [
        "# training our model\n",
        "history = model.fit(predictors, label, epochs=100, verbose=1)"
      ],
      "metadata": {
        "colab": {
          "base_uri": "https://localhost:8080/"
        },
        "id": "V-p0uPeGr4K9",
        "outputId": "2d0e2901-585a-4765-a564-ca5cd7dd4199"
      },
      "execution_count": 66,
      "outputs": [
        {
          "output_type": "stream",
          "name": "stdout",
          "text": [
            "Epoch 1/100\n",
            "307/307 [==============================] - 5s 9ms/step - loss: 7.0417\n",
            "Epoch 2/100\n",
            "307/307 [==============================] - 3s 9ms/step - loss: 6.6196\n",
            "Epoch 3/100\n",
            "307/307 [==============================] - 3s 9ms/step - loss: 6.5013\n",
            "Epoch 4/100\n",
            "307/307 [==============================] - 3s 9ms/step - loss: 6.3849\n",
            "Epoch 5/100\n",
            "307/307 [==============================] - 3s 9ms/step - loss: 6.2468\n",
            "Epoch 6/100\n",
            "307/307 [==============================] - 3s 10ms/step - loss: 6.1109\n",
            "Epoch 7/100\n",
            "307/307 [==============================] - 3s 9ms/step - loss: 5.9717\n",
            "Epoch 8/100\n",
            "307/307 [==============================] - 3s 8ms/step - loss: 5.8417\n",
            "Epoch 9/100\n",
            "307/307 [==============================] - 3s 9ms/step - loss: 5.7174\n",
            "Epoch 10/100\n",
            "307/307 [==============================] - 3s 9ms/step - loss: 5.5914\n",
            "Epoch 11/100\n",
            "307/307 [==============================] - 3s 9ms/step - loss: 5.4702\n",
            "Epoch 12/100\n",
            "307/307 [==============================] - 3s 8ms/step - loss: 5.3523\n",
            "Epoch 13/100\n",
            "307/307 [==============================] - 3s 9ms/step - loss: 5.2339\n",
            "Epoch 14/100\n",
            "307/307 [==============================] - 3s 10ms/step - loss: 5.1197\n",
            "Epoch 15/100\n",
            "307/307 [==============================] - 3s 9ms/step - loss: 5.0033\n",
            "Epoch 16/100\n",
            "307/307 [==============================] - 3s 9ms/step - loss: 4.8931\n",
            "Epoch 17/100\n",
            "307/307 [==============================] - 3s 9ms/step - loss: 4.7870\n",
            "Epoch 18/100\n",
            "307/307 [==============================] - 3s 10ms/step - loss: 4.6759\n",
            "Epoch 19/100\n",
            "307/307 [==============================] - 3s 10ms/step - loss: 4.5715\n",
            "Epoch 20/100\n",
            "307/307 [==============================] - 3s 9ms/step - loss: 4.4623\n",
            "Epoch 21/100\n",
            "307/307 [==============================] - 3s 10ms/step - loss: 4.3630\n",
            "Epoch 22/100\n",
            "307/307 [==============================] - 3s 9ms/step - loss: 4.2620\n",
            "Epoch 23/100\n",
            "307/307 [==============================] - 3s 9ms/step - loss: 4.1575\n",
            "Epoch 24/100\n",
            "307/307 [==============================] - 2s 8ms/step - loss: 4.0639\n",
            "Epoch 25/100\n",
            "307/307 [==============================] - 2s 5ms/step - loss: 3.9717\n",
            "Epoch 26/100\n",
            "307/307 [==============================] - 2s 5ms/step - loss: 3.8738\n",
            "Epoch 27/100\n",
            "307/307 [==============================] - 2s 5ms/step - loss: 3.7864\n",
            "Epoch 28/100\n",
            "307/307 [==============================] - 2s 5ms/step - loss: 3.6988\n",
            "Epoch 29/100\n",
            "307/307 [==============================] - 2s 5ms/step - loss: 3.6171\n",
            "Epoch 30/100\n",
            "307/307 [==============================] - 2s 5ms/step - loss: 3.5389\n",
            "Epoch 31/100\n",
            "307/307 [==============================] - 2s 5ms/step - loss: 3.4481\n",
            "Epoch 32/100\n",
            "307/307 [==============================] - 2s 5ms/step - loss: 3.3793\n",
            "Epoch 33/100\n",
            "307/307 [==============================] - 2s 6ms/step - loss: 3.2942\n",
            "Epoch 34/100\n",
            "307/307 [==============================] - 2s 6ms/step - loss: 3.2311\n",
            "Epoch 35/100\n",
            "307/307 [==============================] - 2s 5ms/step - loss: 3.1650\n",
            "Epoch 36/100\n",
            "307/307 [==============================] - 2s 5ms/step - loss: 3.0804\n",
            "Epoch 37/100\n",
            "307/307 [==============================] - 2s 5ms/step - loss: 3.0236\n",
            "Epoch 38/100\n",
            "307/307 [==============================] - 2s 5ms/step - loss: 2.9564\n",
            "Epoch 39/100\n",
            "307/307 [==============================] - 2s 5ms/step - loss: 2.8954\n",
            "Epoch 40/100\n",
            "307/307 [==============================] - 2s 5ms/step - loss: 2.8248\n",
            "Epoch 41/100\n",
            "307/307 [==============================] - 2s 5ms/step - loss: 2.7797\n",
            "Epoch 42/100\n",
            "307/307 [==============================] - 2s 5ms/step - loss: 2.7207\n",
            "Epoch 43/100\n",
            "307/307 [==============================] - 2s 6ms/step - loss: 2.6669\n",
            "Epoch 44/100\n",
            "307/307 [==============================] - 2s 5ms/step - loss: 2.6193\n",
            "Epoch 45/100\n",
            "307/307 [==============================] - 2s 6ms/step - loss: 2.5700\n",
            "Epoch 46/100\n",
            "307/307 [==============================] - 2s 5ms/step - loss: 2.5224\n",
            "Epoch 47/100\n",
            "307/307 [==============================] - 2s 5ms/step - loss: 2.4773\n",
            "Epoch 48/100\n",
            "307/307 [==============================] - 2s 5ms/step - loss: 2.4379\n",
            "Epoch 49/100\n",
            "307/307 [==============================] - 2s 5ms/step - loss: 2.3874\n",
            "Epoch 50/100\n",
            "307/307 [==============================] - 2s 5ms/step - loss: 2.3456\n",
            "Epoch 51/100\n",
            "307/307 [==============================] - 2s 6ms/step - loss: 2.3014\n",
            "Epoch 52/100\n",
            "307/307 [==============================] - 2s 8ms/step - loss: 2.2592\n",
            "Epoch 53/100\n",
            "307/307 [==============================] - 2s 7ms/step - loss: 2.2370\n",
            "Epoch 54/100\n",
            "307/307 [==============================] - 2s 5ms/step - loss: 2.1787\n",
            "Epoch 55/100\n",
            "307/307 [==============================] - 2s 5ms/step - loss: 2.1623\n",
            "Epoch 56/100\n",
            "307/307 [==============================] - 2s 5ms/step - loss: 2.1227\n",
            "Epoch 57/100\n",
            "307/307 [==============================] - 2s 5ms/step - loss: 2.0901\n",
            "Epoch 58/100\n",
            "307/307 [==============================] - 2s 8ms/step - loss: 2.0707\n",
            "Epoch 59/100\n",
            "307/307 [==============================] - 2s 5ms/step - loss: 2.0387\n",
            "Epoch 60/100\n",
            "307/307 [==============================] - 2s 5ms/step - loss: 1.9867\n",
            "Epoch 61/100\n",
            "307/307 [==============================] - 2s 5ms/step - loss: 1.9664\n",
            "Epoch 62/100\n",
            "307/307 [==============================] - 2s 5ms/step - loss: 1.9346\n",
            "Epoch 63/100\n",
            "307/307 [==============================] - 2s 5ms/step - loss: 1.8969\n",
            "Epoch 64/100\n",
            "307/307 [==============================] - 2s 5ms/step - loss: 1.8824\n",
            "Epoch 65/100\n",
            "307/307 [==============================] - 2s 5ms/step - loss: 1.8590\n",
            "Epoch 66/100\n",
            "307/307 [==============================] - 2s 5ms/step - loss: 1.8214\n",
            "Epoch 67/100\n",
            "307/307 [==============================] - 2s 5ms/step - loss: 1.8025\n",
            "Epoch 68/100\n",
            "307/307 [==============================] - 2s 5ms/step - loss: 1.7891\n",
            "Epoch 69/100\n",
            "307/307 [==============================] - 2s 5ms/step - loss: 1.7667\n",
            "Epoch 70/100\n",
            "307/307 [==============================] - 2s 5ms/step - loss: 1.7318\n",
            "Epoch 71/100\n",
            "307/307 [==============================] - 2s 5ms/step - loss: 1.7038\n",
            "Epoch 72/100\n",
            "307/307 [==============================] - 2s 5ms/step - loss: 1.6826\n",
            "Epoch 73/100\n",
            "307/307 [==============================] - 2s 5ms/step - loss: 1.6716\n",
            "Epoch 74/100\n",
            "307/307 [==============================] - 2s 5ms/step - loss: 1.6404\n",
            "Epoch 75/100\n",
            "307/307 [==============================] - 2s 5ms/step - loss: 1.6289\n",
            "Epoch 76/100\n",
            "307/307 [==============================] - 2s 5ms/step - loss: 1.5973\n",
            "Epoch 77/100\n",
            "307/307 [==============================] - 2s 5ms/step - loss: 1.5900\n",
            "Epoch 78/100\n",
            "307/307 [==============================] - 2s 5ms/step - loss: 1.5709\n",
            "Epoch 79/100\n",
            "307/307 [==============================] - 2s 5ms/step - loss: 1.5340\n",
            "Epoch 80/100\n",
            "307/307 [==============================] - 2s 5ms/step - loss: 1.5267\n",
            "Epoch 81/100\n",
            "307/307 [==============================] - 2s 5ms/step - loss: 1.5078\n",
            "Epoch 82/100\n",
            "307/307 [==============================] - 2s 5ms/step - loss: 1.4918\n",
            "Epoch 83/100\n",
            "307/307 [==============================] - 2s 5ms/step - loss: 1.4666\n",
            "Epoch 84/100\n",
            "307/307 [==============================] - 2s 5ms/step - loss: 1.4542\n",
            "Epoch 85/100\n",
            "307/307 [==============================] - 2s 5ms/step - loss: 1.4231\n",
            "Epoch 86/100\n",
            "307/307 [==============================] - 2s 5ms/step - loss: 1.4288\n",
            "Epoch 87/100\n",
            "307/307 [==============================] - 2s 5ms/step - loss: 1.4060\n",
            "Epoch 88/100\n",
            "307/307 [==============================] - 2s 5ms/step - loss: 1.3931\n",
            "Epoch 89/100\n",
            "307/307 [==============================] - 2s 5ms/step - loss: 1.3797\n",
            "Epoch 90/100\n",
            "307/307 [==============================] - 2s 5ms/step - loss: 1.3669\n",
            "Epoch 91/100\n",
            "307/307 [==============================] - 2s 6ms/step - loss: 1.3668\n",
            "Epoch 92/100\n",
            "307/307 [==============================] - 2s 5ms/step - loss: 1.3260\n",
            "Epoch 93/100\n",
            "307/307 [==============================] - 2s 5ms/step - loss: 1.3223\n",
            "Epoch 94/100\n",
            "307/307 [==============================] - 2s 5ms/step - loss: 1.3089\n",
            "Epoch 95/100\n",
            "307/307 [==============================] - 2s 5ms/step - loss: 1.2783\n",
            "Epoch 96/100\n",
            "307/307 [==============================] - 2s 5ms/step - loss: 1.2783\n",
            "Epoch 97/100\n",
            "307/307 [==============================] - 2s 5ms/step - loss: 1.2615\n",
            "Epoch 98/100\n",
            "307/307 [==============================] - 2s 5ms/step - loss: 1.2643\n",
            "Epoch 99/100\n",
            "307/307 [==============================] - 2s 5ms/step - loss: 1.2268\n",
            "Epoch 100/100\n",
            "307/307 [==============================] - 2s 5ms/step - loss: 1.2500\n"
          ]
        }
      ]
    },
    {
      "cell_type": "code",
      "source": [
        "def generate_text(seed_text, next_words, model, max_sequence_len):\n",
        "  for _ in range(next_words):\n",
        "    token_list = tokenizer.texts_to_sequences([seed_text])[0]\n",
        "    token_list = pad_sequences([token_list], maxlen=max_sequence_len-1, padding='pre')\n",
        "    predicted = np.argmax(model.predict(token_list, verbose=0))\n",
        "\n",
        "    output_word = \"\"\n",
        "    for word, index in tokenizer.word_index.items():\n",
        "      if index == predicted:\n",
        "        output_word = word\n",
        "        break\n",
        "    seed_text += \" \" + output_word\n",
        "\n",
        "  return seed_text.title()"
      ],
      "metadata": {
        "id": "wVxk_YABsBUm"
      },
      "execution_count": 67,
      "outputs": []
    },
    {
      "cell_type": "code",
      "source": [
        "print(generate_text(\"21 things\", 6, model, max_sequence_len))\n",
        "print(generate_text(\"you wouldnt believe\", 8, model, max_sequence_len))\n",
        "print(generate_text(\"hollywood\", 5, model, max_sequence_len))\n",
        "print(generate_text(\"coming this year\", 8, model, max_sequence_len))\n",
        "print(generate_text(\"celebrities\", 6, model, max_sequence_len))"
      ],
      "metadata": {
        "colab": {
          "base_uri": "https://localhost:8080/"
        },
        "id": "ZRTiOZSEulYR",
        "outputId": "ea142639-790b-4143-bdc1-56637b183095"
      },
      "execution_count": 68,
      "outputs": [
        {
          "output_type": "stream",
          "name": "stdout",
          "text": [
            "21 Things Publix Workers Absolutely Hate\n",
            "You Wouldnt Believe At A Buffet Of The\n",
            "Hollywood Of The Best Queer Characters\n",
            "Coming This Year And I Ll Not Whether You Re Trying\n",
            "Celebrities Are Sharing The Toughest Lesson They\n"
          ]
        }
      ]
    },
    {
      "cell_type": "code",
      "source": [
        "import matplotlib.pyplot as plt\n",
        "%matplotlib inline"
      ],
      "metadata": {
        "id": "Lh-LRQpxvFwm"
      },
      "execution_count": 69,
      "outputs": []
    },
    {
      "cell_type": "code",
      "source": [
        "plt.figure(figsize=(10, 6))\n",
        "plt.plot(history.history['loss'], label=\"Train Loss\")\n",
        "plt.title(\"Model Loss\")\n",
        "plt.ylabel('Loss')\n",
        "plt.xlabel('Epoch')\n",
        "plt.legend(loc='upper right')\n",
        "plt.show();"
      ],
      "metadata": {
        "colab": {
          "base_uri": "https://localhost:8080/",
          "height": 404
        },
        "id": "Jqgvkzw-2C-L",
        "outputId": "8ee03150-825e-4631-b1cf-d20b5521645a"
      },
      "execution_count": 70,
      "outputs": [
        {
          "output_type": "display_data",
          "data": {
            "image/png": "[encoded data removed]",
            "text/plain": [
              "<Figure size 720x432 with 1 Axes>"
            ]
          },
          "metadata": {
            "needs_background": "light"
          }
        }
      ]
    },
    {
      "cell_type": "code",
      "source": [
        ""
      ],
      "metadata": {
        "id": "t0I7iWzB2Tb7"
      },
      "execution_count": 70,
      "outputs": []
    }
  ]
}